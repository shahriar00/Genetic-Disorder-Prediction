{
  "cells": [
    {
      "cell_type": "markdown",
      "metadata": {
        "id": "view-in-github",
        "colab_type": "text"
      },
      "source": [
        "<a href=\"https://colab.research.google.com/github/shahriar00/Genetic-Disorder-Prediction/blob/main/Genetic_Disorder_Prediction_.ipynb\" target=\"_parent\"><img src=\"https://colab.research.google.com/assets/colab-badge.svg\" alt=\"Open In Colab\"/></a>"
      ]
    },
    {
      "cell_type": "code",
      "execution_count": null,
      "metadata": {
        "id": "q-8E-3kJkvCr"
      },
      "outputs": [],
      "source": [
        "import numpy as np\n",
        "import pandas as pd\n",
        "import matplotlib.pyplot as plt\n",
        "import seaborn as sns\n",
        "import warnings\n",
        "warnings.filterwarnings('ignore')\n",
        "from sklearn.svm import SVC\n",
        "from sklearn.metrics import accuracy_score\n",
        "from sklearn.impute import SimpleImputer\n",
        "from sklearn.neighbors import KNeighborsClassifier\n",
        "from sklearn.tree import DecisionTreeClassifier\n",
        "from sklearn.ensemble import RandomForestClassifier\n",
        "from sklearn.linear_model import LogisticRegression\n",
        "from xgboost import XGBClassifier\n",
        "from sklearn.metrics import accuracy_score, precision_score, recall_score, f1_score, confusion_matrix"
      ]
    },
    {
      "cell_type": "code",
      "execution_count": null,
      "metadata": {
        "id": "8F3inNvEkx04"
      },
      "outputs": [],
      "source": [
        "# Read the data\n",
        "df_train = pd.read_csv(\"/content/train.csv\", encoding='utf-8')"
      ]
    },
    {
      "cell_type": "code",
      "execution_count": null,
      "metadata": {
        "colab": {
          "base_uri": "https://localhost:8080/",
          "height": 550
        },
        "id": "-FG5v0MXlat7",
        "outputId": "b2f02d81-6332-48b2-9fac-8106775e2362"
      },
      "outputs": [
        {
          "output_type": "execute_result",
          "data": {
            "text/plain": [
              "  Patient Id  Patient Age Genes in mother's side Inherited from father  \\\n",
              "0  PID0x6418          2.0                    Yes                    No   \n",
              "1  PID0x25d5          4.0                    Yes                   Yes   \n",
              "2  PID0x4a82          6.0                    Yes                    No   \n",
              "3  PID0x4ac8         12.0                    Yes                    No   \n",
              "4  PID0x1bf7         11.0                    Yes                    No   \n",
              "\n",
              "  Maternal gene Paternal gene  Blood cell count (mcL) Patient First Name  \\\n",
              "0           Yes            No                4.760603            Richard   \n",
              "1            No            No                4.910669               Mike   \n",
              "2            No            No                4.893297           Kimberly   \n",
              "3           Yes            No                4.705280            Jeffery   \n",
              "4           NaN           Yes                4.720703            Johanna   \n",
              "\n",
              "  Family Name Father's name  ...  Birth defects  \\\n",
              "0         NaN         Larre  ...            NaN   \n",
              "1         NaN        Brycen  ...       Multiple   \n",
              "2         NaN        Nashon  ...       Singular   \n",
              "3   Hoelscher        Aayaan  ...       Singular   \n",
              "4    Stutzman         Suave  ...       Multiple   \n",
              "\n",
              "   White Blood cell count (thousand per microliter) Blood test result  \\\n",
              "0                                          9.857562               NaN   \n",
              "1                                          5.522560            normal   \n",
              "2                                               NaN            normal   \n",
              "3                                          7.919321      inconclusive   \n",
              "4                                          4.098210               NaN   \n",
              "\n",
              "  Symptom 1 Symptom 2 Symptom 3 Symptom 4  Symptom 5  \\\n",
              "0       1.0       1.0       1.0       1.0        1.0   \n",
              "1       1.0       NaN       1.0       1.0        0.0   \n",
              "2       0.0       1.0       1.0       1.0        1.0   \n",
              "3       0.0       0.0       1.0       0.0        0.0   \n",
              "4       0.0       0.0       0.0       0.0        NaN   \n",
              "\n",
              "                               Genetic Disorder  \\\n",
              "0   Mitochondrial genetic inheritance disorders   \n",
              "1                                           NaN   \n",
              "2  Multifactorial genetic inheritance disorders   \n",
              "3   Mitochondrial genetic inheritance disorders   \n",
              "4  Multifactorial genetic inheritance disorders   \n",
              "\n",
              "                     Disorder Subclass  \n",
              "0  Leber's hereditary optic neuropathy  \n",
              "1                      Cystic fibrosis  \n",
              "2                             Diabetes  \n",
              "3                       Leigh syndrome  \n",
              "4                               Cancer  \n",
              "\n",
              "[5 rows x 45 columns]"
            ],
            "text/html": [
              "\n",
              "  <div id=\"df-10807687-b1b8-425e-a6df-a0ea10ae145b\" class=\"colab-df-container\">\n",
              "    <div>\n",
              "<style scoped>\n",
              "    .dataframe tbody tr th:only-of-type {\n",
              "        vertical-align: middle;\n",
              "    }\n",
              "\n",
              "    .dataframe tbody tr th {\n",
              "        vertical-align: top;\n",
              "    }\n",
              "\n",
              "    .dataframe thead th {\n",
              "        text-align: right;\n",
              "    }\n",
              "</style>\n",
              "<table border=\"1\" class=\"dataframe\">\n",
              "  <thead>\n",
              "    <tr style=\"text-align: right;\">\n",
              "      <th></th>\n",
              "      <th>Patient Id</th>\n",
              "      <th>Patient Age</th>\n",
              "      <th>Genes in mother's side</th>\n",
              "      <th>Inherited from father</th>\n",
              "      <th>Maternal gene</th>\n",
              "      <th>Paternal gene</th>\n",
              "      <th>Blood cell count (mcL)</th>\n",
              "      <th>Patient First Name</th>\n",
              "      <th>Family Name</th>\n",
              "      <th>Father's name</th>\n",
              "      <th>...</th>\n",
              "      <th>Birth defects</th>\n",
              "      <th>White Blood cell count (thousand per microliter)</th>\n",
              "      <th>Blood test result</th>\n",
              "      <th>Symptom 1</th>\n",
              "      <th>Symptom 2</th>\n",
              "      <th>Symptom 3</th>\n",
              "      <th>Symptom 4</th>\n",
              "      <th>Symptom 5</th>\n",
              "      <th>Genetic Disorder</th>\n",
              "      <th>Disorder Subclass</th>\n",
              "    </tr>\n",
              "  </thead>\n",
              "  <tbody>\n",
              "    <tr>\n",
              "      <th>0</th>\n",
              "      <td>PID0x6418</td>\n",
              "      <td>2.0</td>\n",
              "      <td>Yes</td>\n",
              "      <td>No</td>\n",
              "      <td>Yes</td>\n",
              "      <td>No</td>\n",
              "      <td>4.760603</td>\n",
              "      <td>Richard</td>\n",
              "      <td>NaN</td>\n",
              "      <td>Larre</td>\n",
              "      <td>...</td>\n",
              "      <td>NaN</td>\n",
              "      <td>9.857562</td>\n",
              "      <td>NaN</td>\n",
              "      <td>1.0</td>\n",
              "      <td>1.0</td>\n",
              "      <td>1.0</td>\n",
              "      <td>1.0</td>\n",
              "      <td>1.0</td>\n",
              "      <td>Mitochondrial genetic inheritance disorders</td>\n",
              "      <td>Leber's hereditary optic neuropathy</td>\n",
              "    </tr>\n",
              "    <tr>\n",
              "      <th>1</th>\n",
              "      <td>PID0x25d5</td>\n",
              "      <td>4.0</td>\n",
              "      <td>Yes</td>\n",
              "      <td>Yes</td>\n",
              "      <td>No</td>\n",
              "      <td>No</td>\n",
              "      <td>4.910669</td>\n",
              "      <td>Mike</td>\n",
              "      <td>NaN</td>\n",
              "      <td>Brycen</td>\n",
              "      <td>...</td>\n",
              "      <td>Multiple</td>\n",
              "      <td>5.522560</td>\n",
              "      <td>normal</td>\n",
              "      <td>1.0</td>\n",
              "      <td>NaN</td>\n",
              "      <td>1.0</td>\n",
              "      <td>1.0</td>\n",
              "      <td>0.0</td>\n",
              "      <td>NaN</td>\n",
              "      <td>Cystic fibrosis</td>\n",
              "    </tr>\n",
              "    <tr>\n",
              "      <th>2</th>\n",
              "      <td>PID0x4a82</td>\n",
              "      <td>6.0</td>\n",
              "      <td>Yes</td>\n",
              "      <td>No</td>\n",
              "      <td>No</td>\n",
              "      <td>No</td>\n",
              "      <td>4.893297</td>\n",
              "      <td>Kimberly</td>\n",
              "      <td>NaN</td>\n",
              "      <td>Nashon</td>\n",
              "      <td>...</td>\n",
              "      <td>Singular</td>\n",
              "      <td>NaN</td>\n",
              "      <td>normal</td>\n",
              "      <td>0.0</td>\n",
              "      <td>1.0</td>\n",
              "      <td>1.0</td>\n",
              "      <td>1.0</td>\n",
              "      <td>1.0</td>\n",
              "      <td>Multifactorial genetic inheritance disorders</td>\n",
              "      <td>Diabetes</td>\n",
              "    </tr>\n",
              "    <tr>\n",
              "      <th>3</th>\n",
              "      <td>PID0x4ac8</td>\n",
              "      <td>12.0</td>\n",
              "      <td>Yes</td>\n",
              "      <td>No</td>\n",
              "      <td>Yes</td>\n",
              "      <td>No</td>\n",
              "      <td>4.705280</td>\n",
              "      <td>Jeffery</td>\n",
              "      <td>Hoelscher</td>\n",
              "      <td>Aayaan</td>\n",
              "      <td>...</td>\n",
              "      <td>Singular</td>\n",
              "      <td>7.919321</td>\n",
              "      <td>inconclusive</td>\n",
              "      <td>0.0</td>\n",
              "      <td>0.0</td>\n",
              "      <td>1.0</td>\n",
              "      <td>0.0</td>\n",
              "      <td>0.0</td>\n",
              "      <td>Mitochondrial genetic inheritance disorders</td>\n",
              "      <td>Leigh syndrome</td>\n",
              "    </tr>\n",
              "    <tr>\n",
              "      <th>4</th>\n",
              "      <td>PID0x1bf7</td>\n",
              "      <td>11.0</td>\n",
              "      <td>Yes</td>\n",
              "      <td>No</td>\n",
              "      <td>NaN</td>\n",
              "      <td>Yes</td>\n",
              "      <td>4.720703</td>\n",
              "      <td>Johanna</td>\n",
              "      <td>Stutzman</td>\n",
              "      <td>Suave</td>\n",
              "      <td>...</td>\n",
              "      <td>Multiple</td>\n",
              "      <td>4.098210</td>\n",
              "      <td>NaN</td>\n",
              "      <td>0.0</td>\n",
              "      <td>0.0</td>\n",
              "      <td>0.0</td>\n",
              "      <td>0.0</td>\n",
              "      <td>NaN</td>\n",
              "      <td>Multifactorial genetic inheritance disorders</td>\n",
              "      <td>Cancer</td>\n",
              "    </tr>\n",
              "  </tbody>\n",
              "</table>\n",
              "<p>5 rows × 45 columns</p>\n",
              "</div>\n",
              "    <div class=\"colab-df-buttons\">\n",
              "\n",
              "  <div class=\"colab-df-container\">\n",
              "    <button class=\"colab-df-convert\" onclick=\"convertToInteractive('df-10807687-b1b8-425e-a6df-a0ea10ae145b')\"\n",
              "            title=\"Convert this dataframe to an interactive table.\"\n",
              "            style=\"display:none;\">\n",
              "\n",
              "  <svg xmlns=\"http://www.w3.org/2000/svg\" height=\"24px\" viewBox=\"0 -960 960 960\">\n",
              "    <path d=\"M120-120v-720h720v720H120Zm60-500h600v-160H180v160Zm220 220h160v-160H400v160Zm0 220h160v-160H400v160ZM180-400h160v-160H180v160Zm440 0h160v-160H620v160ZM180-180h160v-160H180v160Zm440 0h160v-160H620v160Z\"/>\n",
              "  </svg>\n",
              "    </button>\n",
              "\n",
              "  <style>\n",
              "    .colab-df-container {\n",
              "      display:flex;\n",
              "      gap: 12px;\n",
              "    }\n",
              "\n",
              "    .colab-df-convert {\n",
              "      background-color: #E8F0FE;\n",
              "      border: none;\n",
              "      border-radius: 50%;\n",
              "      cursor: pointer;\n",
              "      display: none;\n",
              "      fill: #1967D2;\n",
              "      height: 32px;\n",
              "      padding: 0 0 0 0;\n",
              "      width: 32px;\n",
              "    }\n",
              "\n",
              "    .colab-df-convert:hover {\n",
              "      background-color: #E2EBFA;\n",
              "      box-shadow: 0px 1px 2px rgba(60, 64, 67, 0.3), 0px 1px 3px 1px rgba(60, 64, 67, 0.15);\n",
              "      fill: #174EA6;\n",
              "    }\n",
              "\n",
              "    .colab-df-buttons div {\n",
              "      margin-bottom: 4px;\n",
              "    }\n",
              "\n",
              "    [theme=dark] .colab-df-convert {\n",
              "      background-color: #3B4455;\n",
              "      fill: #D2E3FC;\n",
              "    }\n",
              "\n",
              "    [theme=dark] .colab-df-convert:hover {\n",
              "      background-color: #434B5C;\n",
              "      box-shadow: 0px 1px 3px 1px rgba(0, 0, 0, 0.15);\n",
              "      filter: drop-shadow(0px 1px 2px rgba(0, 0, 0, 0.3));\n",
              "      fill: #FFFFFF;\n",
              "    }\n",
              "  </style>\n",
              "\n",
              "    <script>\n",
              "      const buttonEl =\n",
              "        document.querySelector('#df-10807687-b1b8-425e-a6df-a0ea10ae145b button.colab-df-convert');\n",
              "      buttonEl.style.display =\n",
              "        google.colab.kernel.accessAllowed ? 'block' : 'none';\n",
              "\n",
              "      async function convertToInteractive(key) {\n",
              "        const element = document.querySelector('#df-10807687-b1b8-425e-a6df-a0ea10ae145b');\n",
              "        const dataTable =\n",
              "          await google.colab.kernel.invokeFunction('convertToInteractive',\n",
              "                                                    [key], {});\n",
              "        if (!dataTable) return;\n",
              "\n",
              "        const docLinkHtml = 'Like what you see? Visit the ' +\n",
              "          '<a target=\"_blank\" href=https://colab.research.google.com/notebooks/data_table.ipynb>data table notebook</a>'\n",
              "          + ' to learn more about interactive tables.';\n",
              "        element.innerHTML = '';\n",
              "        dataTable['output_type'] = 'display_data';\n",
              "        await google.colab.output.renderOutput(dataTable, element);\n",
              "        const docLink = document.createElement('div');\n",
              "        docLink.innerHTML = docLinkHtml;\n",
              "        element.appendChild(docLink);\n",
              "      }\n",
              "    </script>\n",
              "  </div>\n",
              "\n",
              "\n",
              "<div id=\"df-5d3d3058-f878-4ce5-8977-5b5276413ca4\">\n",
              "  <button class=\"colab-df-quickchart\" onclick=\"quickchart('df-5d3d3058-f878-4ce5-8977-5b5276413ca4')\"\n",
              "            title=\"Suggest charts\"\n",
              "            style=\"display:none;\">\n",
              "\n",
              "<svg xmlns=\"http://www.w3.org/2000/svg\" height=\"24px\"viewBox=\"0 0 24 24\"\n",
              "     width=\"24px\">\n",
              "    <g>\n",
              "        <path d=\"M19 3H5c-1.1 0-2 .9-2 2v14c0 1.1.9 2 2 2h14c1.1 0 2-.9 2-2V5c0-1.1-.9-2-2-2zM9 17H7v-7h2v7zm4 0h-2V7h2v10zm4 0h-2v-4h2v4z\"/>\n",
              "    </g>\n",
              "</svg>\n",
              "  </button>\n",
              "\n",
              "<style>\n",
              "  .colab-df-quickchart {\n",
              "      --bg-color: #E8F0FE;\n",
              "      --fill-color: #1967D2;\n",
              "      --hover-bg-color: #E2EBFA;\n",
              "      --hover-fill-color: #174EA6;\n",
              "      --disabled-fill-color: #AAA;\n",
              "      --disabled-bg-color: #DDD;\n",
              "  }\n",
              "\n",
              "  [theme=dark] .colab-df-quickchart {\n",
              "      --bg-color: #3B4455;\n",
              "      --fill-color: #D2E3FC;\n",
              "      --hover-bg-color: #434B5C;\n",
              "      --hover-fill-color: #FFFFFF;\n",
              "      --disabled-bg-color: #3B4455;\n",
              "      --disabled-fill-color: #666;\n",
              "  }\n",
              "\n",
              "  .colab-df-quickchart {\n",
              "    background-color: var(--bg-color);\n",
              "    border: none;\n",
              "    border-radius: 50%;\n",
              "    cursor: pointer;\n",
              "    display: none;\n",
              "    fill: var(--fill-color);\n",
              "    height: 32px;\n",
              "    padding: 0;\n",
              "    width: 32px;\n",
              "  }\n",
              "\n",
              "  .colab-df-quickchart:hover {\n",
              "    background-color: var(--hover-bg-color);\n",
              "    box-shadow: 0 1px 2px rgba(60, 64, 67, 0.3), 0 1px 3px 1px rgba(60, 64, 67, 0.15);\n",
              "    fill: var(--button-hover-fill-color);\n",
              "  }\n",
              "\n",
              "  .colab-df-quickchart-complete:disabled,\n",
              "  .colab-df-quickchart-complete:disabled:hover {\n",
              "    background-color: var(--disabled-bg-color);\n",
              "    fill: var(--disabled-fill-color);\n",
              "    box-shadow: none;\n",
              "  }\n",
              "\n",
              "  .colab-df-spinner {\n",
              "    border: 2px solid var(--fill-color);\n",
              "    border-color: transparent;\n",
              "    border-bottom-color: var(--fill-color);\n",
              "    animation:\n",
              "      spin 1s steps(1) infinite;\n",
              "  }\n",
              "\n",
              "  @keyframes spin {\n",
              "    0% {\n",
              "      border-color: transparent;\n",
              "      border-bottom-color: var(--fill-color);\n",
              "      border-left-color: var(--fill-color);\n",
              "    }\n",
              "    20% {\n",
              "      border-color: transparent;\n",
              "      border-left-color: var(--fill-color);\n",
              "      border-top-color: var(--fill-color);\n",
              "    }\n",
              "    30% {\n",
              "      border-color: transparent;\n",
              "      border-left-color: var(--fill-color);\n",
              "      border-top-color: var(--fill-color);\n",
              "      border-right-color: var(--fill-color);\n",
              "    }\n",
              "    40% {\n",
              "      border-color: transparent;\n",
              "      border-right-color: var(--fill-color);\n",
              "      border-top-color: var(--fill-color);\n",
              "    }\n",
              "    60% {\n",
              "      border-color: transparent;\n",
              "      border-right-color: var(--fill-color);\n",
              "    }\n",
              "    80% {\n",
              "      border-color: transparent;\n",
              "      border-right-color: var(--fill-color);\n",
              "      border-bottom-color: var(--fill-color);\n",
              "    }\n",
              "    90% {\n",
              "      border-color: transparent;\n",
              "      border-bottom-color: var(--fill-color);\n",
              "    }\n",
              "  }\n",
              "</style>\n",
              "\n",
              "  <script>\n",
              "    async function quickchart(key) {\n",
              "      const quickchartButtonEl =\n",
              "        document.querySelector('#' + key + ' button');\n",
              "      quickchartButtonEl.disabled = true;  // To prevent multiple clicks.\n",
              "      quickchartButtonEl.classList.add('colab-df-spinner');\n",
              "      try {\n",
              "        const charts = await google.colab.kernel.invokeFunction(\n",
              "            'suggestCharts', [key], {});\n",
              "      } catch (error) {\n",
              "        console.error('Error during call to suggestCharts:', error);\n",
              "      }\n",
              "      quickchartButtonEl.classList.remove('colab-df-spinner');\n",
              "      quickchartButtonEl.classList.add('colab-df-quickchart-complete');\n",
              "    }\n",
              "    (() => {\n",
              "      let quickchartButtonEl =\n",
              "        document.querySelector('#df-5d3d3058-f878-4ce5-8977-5b5276413ca4 button');\n",
              "      quickchartButtonEl.style.display =\n",
              "        google.colab.kernel.accessAllowed ? 'block' : 'none';\n",
              "    })();\n",
              "  </script>\n",
              "</div>\n",
              "\n",
              "    </div>\n",
              "  </div>\n"
            ],
            "application/vnd.google.colaboratory.intrinsic+json": {
              "type": "dataframe",
              "variable_name": "df_train"
            }
          },
          "metadata": {},
          "execution_count": 127
        }
      ],
      "source": [
        "df_train.head()"
      ]
    },
    {
      "cell_type": "code",
      "execution_count": null,
      "metadata": {
        "colab": {
          "base_uri": "https://localhost:8080/",
          "height": 608
        },
        "id": "uaq7-rSaZSJS",
        "outputId": "d9a5b7a1-fddc-4158-eda8-b2f92338a69c"
      },
      "outputs": [
        {
          "output_type": "display_data",
          "data": {
            "text/plain": [
              "<Figure size 1000x600 with 1 Axes>"
            ],
            "image/png": "[encoded data removed]"
          },
          "metadata": {}
        }
      ],
      "source": [
        "# Define custom color palette\n",
        "custom_palette = [\"teal\", \"orange\"]\n",
        "\n",
        "# Assuming your DataFrame is named df_train\n",
        "plt.figure(figsize=(10, 6))\n",
        "sns.countplot(data=df_train, x='Status', palette=custom_palette)\n",
        "plt.title('Counts of Status')\n",
        "plt.xlabel('Status')\n",
        "plt.ylabel('Count')\n",
        "plt.xticks(rotation=45)  # Rotate x-labels for better visibility if needed\n",
        "plt.show()"
      ]
    },
    {
      "cell_type": "code",
      "execution_count": null,
      "metadata": {
        "colab": {
          "base_uri": "https://localhost:8080/",
          "height": 521
        },
        "id": "968hqFb4XUUM",
        "outputId": "31d8f31e-9a5b-4b73-82d5-bb38f8c83f5c"
      },
      "outputs": [
        {
          "output_type": "display_data",
          "data": {
            "text/plain": [
              "<Figure size 1000x600 with 1 Axes>"
            ],
            "image/png": "[encoded data removed]"
          },
          "metadata": {}
        }
      ],
      "source": [
        "import matplotlib.pyplot as plt\n",
        "disorder_counts = df_train['Genetic Disorder'].value_counts()\n",
        "custom_palette = [\"pink\", \"cyan\", \"orange\"]\n",
        "plt.figure(figsize=(10, 6))\n",
        "plt.pie(disorder_counts, labels=disorder_counts.index, colors=custom_palette, autopct='%1.1f%%', startangle=140)\n",
        "plt.title('Distribution of Genetic Disorders')\n",
        "plt.show()\n"
      ]
    },
    {
      "cell_type": "code",
      "execution_count": null,
      "metadata": {
        "colab": {
          "base_uri": "https://localhost:8080/",
          "height": 550
        },
        "id": "gE8SXPkoYZOv",
        "outputId": "8ad9d59f-c1b2-4ca8-a52a-9bac4d688808"
      },
      "outputs": [
        {
          "output_type": "display_data",
          "data": {
            "text/plain": [
              "<Figure size 1000x600 with 1 Axes>"
            ],
            "image/png": "[encoded data removed]"
          },
          "metadata": {}
        }
      ],
      "source": [
        "import matplotlib.pyplot as plt\n",
        "import seaborn as sns\n",
        "import numpy as np\n",
        "\n",
        "# Define custom color palette\n",
        "custom_palette = [\"brown\", \"olive\", \"cyan\", \"orange\", \"grey\", \"purple\", \"red\", \"teal\", \"green\"]\n",
        "\n",
        "# Assuming your DataFrame is named df_train\n",
        "plt.figure(figsize=(10, 6))\n",
        "ax = sns.countplot(data=df_train, x='Disorder Subclass', palette=custom_palette)\n",
        "plt.title('Counts of Disorder Subclass')\n",
        "plt.xlabel('Disorder Subclass')\n",
        "plt.ylabel('Count')\n",
        "\n",
        "# Remove x-tick labels\n",
        "ax.set_xticklabels([''] * len(ax.get_xticklabels()))\n",
        "\n",
        "# Filter out NaN values from the disorder subclasses\n",
        "disorder_subclasses = df_train['Disorder Subclass'].dropna().unique()\n",
        "\n",
        "# Create a legend for the custom palette, excluding NaN values\n",
        "handles = [plt.Line2D([0], [0], marker='o', color=color, linestyle='', markersize=10)\n",
        "           for color, subclass in zip(custom_palette, disorder_subclasses) if subclass in disorder_subclasses]\n",
        "filtered_palette = [color for color, subclass in zip(custom_palette, df_train['Disorder Subclass'].unique()) if subclass in disorder_subclasses]\n",
        "plt.legend(handles, disorder_subclasses, title='Disorder Subclass', loc='upper right')\n",
        "\n",
        "plt.show()\n"
      ]
    },
    {
      "cell_type": "code",
      "execution_count": null,
      "metadata": {
        "colab": {
          "base_uri": "https://localhost:8080/"
        },
        "id": "lsVdPXmN-kBT",
        "outputId": "79d256f1-1cda-4647-ce3b-3c0e4c500baf"
      },
      "outputs": [
        {
          "output_type": "stream",
          "name": "stdout",
          "text": [
            "Disorder Subclass\n",
            "Leigh syndrome                         5160\n",
            "Mitochondrial myopathy                 4405\n",
            "Cystic fibrosis                        3448\n",
            "Tay-Sachs                              2833\n",
            "Diabetes                               1817\n",
            "Hemochromatosis                        1355\n",
            "Leber's hereditary optic neuropathy     648\n",
            "Alzheimer's                             152\n",
            "Cancer                                   97\n",
            "Name: count, dtype: int64\n"
          ]
        }
      ],
      "source": [
        "counts = df_train['Disorder Subclass'].value_counts()\n",
        "print(counts)"
      ]
    },
    {
      "cell_type": "code",
      "execution_count": null,
      "metadata": {
        "id": "IneWY8yrlfp6"
      },
      "outputs": [],
      "source": [
        "df_train.drop([\"Patient Id\", \"Family Name\", \"Patient First Name\", \"Father's name\", \"Institute Name\", \"Location of Institute\", \"Place of birth\"], axis=1, inplace=True)"
      ]
    },
    {
      "cell_type": "code",
      "execution_count": null,
      "metadata": {
        "colab": {
          "base_uri": "https://localhost:8080/"
        },
        "id": "cu7vf8HwljhS",
        "outputId": "eeebb49f-1265-4d3a-a8e5-2166d81ffe10"
      },
      "outputs": [
        {
          "output_type": "stream",
          "name": "stdout",
          "text": [
            "<class 'pandas.core.frame.DataFrame'>\n",
            "RangeIndex: 22083 entries, 0 to 22082\n",
            "Data columns (total 38 columns):\n",
            " #   Column                                            Non-Null Count  Dtype  \n",
            "---  ------                                            --------------  -----  \n",
            " 0   Patient Age                                       20656 non-null  float64\n",
            " 1   Genes in mother's side                            22083 non-null  object \n",
            " 2   Inherited from father                             21777 non-null  object \n",
            " 3   Maternal gene                                     19273 non-null  object \n",
            " 4   Paternal gene                                     22083 non-null  object \n",
            " 5   Blood cell count (mcL)                            22083 non-null  float64\n",
            " 6   Mother's age                                      16047 non-null  float64\n",
            " 7   Father's age                                      16097 non-null  float64\n",
            " 8   Status                                            22083 non-null  object \n",
            " 9   Respiratory Rate (breaths/min)                    19934 non-null  object \n",
            " 10  Heart Rate (rates/min                             19970 non-null  object \n",
            " 11  Test 1                                            19956 non-null  float64\n",
            " 12  Test 2                                            19931 non-null  float64\n",
            " 13  Test 3                                            19936 non-null  float64\n",
            " 14  Test 4                                            19943 non-null  float64\n",
            " 15  Test 5                                            19913 non-null  float64\n",
            " 16  Parental consent                                  19958 non-null  object \n",
            " 17  Follow-up                                         19917 non-null  object \n",
            " 18  Gender                                            19910 non-null  object \n",
            " 19  Birth asphyxia                                    19944 non-null  object \n",
            " 20  Autopsy shows birth defect (if applicable)        17691 non-null  object \n",
            " 21  Folic acid details (peri-conceptional)            19966 non-null  object \n",
            " 22  H/O serious maternal illness                      19931 non-null  object \n",
            " 23  H/O radiation exposure (x-ray)                    19930 non-null  object \n",
            " 24  H/O substance abuse                               19888 non-null  object \n",
            " 25  Assisted conception IVF/ART                       19961 non-null  object \n",
            " 26  History of anomalies in previous pregnancies      19911 non-null  object \n",
            " 27  No. of previous abortion                          19921 non-null  float64\n",
            " 28  Birth defects                                     19929 non-null  object \n",
            " 29  White Blood cell count (thousand per microliter)  19935 non-null  float64\n",
            " 30  Blood test result                                 19938 non-null  object \n",
            " 31  Symptom 1                                         19928 non-null  float64\n",
            " 32  Symptom 2                                         19861 non-null  float64\n",
            " 33  Symptom 3                                         19982 non-null  float64\n",
            " 34  Symptom 4                                         19970 non-null  float64\n",
            " 35  Symptom 5                                         19930 non-null  float64\n",
            " 36  Genetic Disorder                                  19937 non-null  object \n",
            " 37  Disorder Subclass                                 19915 non-null  object \n",
            "dtypes: float64(16), object(22)\n",
            "memory usage: 6.4+ MB\n"
          ]
        }
      ],
      "source": [
        "df_train.info()"
      ]
    },
    {
      "cell_type": "code",
      "execution_count": null,
      "metadata": {
        "id": "WyB3w-milnX6"
      },
      "outputs": [],
      "source": [
        "from sklearn.preprocessing import LabelEncoder, StandardScaler\n",
        "columns = df_train.columns\n",
        "column_types = df_train.dtypes\n",
        "\n",
        "label_encoder = LabelEncoder()\n",
        "scaler = StandardScaler()\n",
        "\n",
        "for column in columns:\n",
        "    if column_types[column] == 'object':  # Categorical data\n",
        "        # Apply label encoding\n",
        "        df_train[column] = label_encoder.fit_transform(df_train[column])"
      ]
    },
    {
      "cell_type": "code",
      "execution_count": null,
      "metadata": {
        "id": "iER0ljb2lqDy"
      },
      "outputs": [],
      "source": [
        "df_train['Patient Age'].fillna(df_train['Patient Age'].mean(), inplace=True)"
      ]
    },
    {
      "cell_type": "code",
      "execution_count": null,
      "metadata": {
        "colab": {
          "base_uri": "https://localhost:8080/"
        },
        "id": "nxETDRNsltRF",
        "outputId": "431a7b54-17d5-4950-9709-c6e47e0cf0eb"
      },
      "outputs": [
        {
          "output_type": "execute_result",
          "data": {
            "text/plain": [
              "Index(['Patient Age', 'Genes in mother's side', 'Inherited from father',\n",
              "       'Maternal gene', 'Paternal gene', 'Blood cell count (mcL)',\n",
              "       'Mother's age', 'Father's age', 'Status',\n",
              "       'Respiratory Rate (breaths/min)', 'Heart Rate (rates/min', 'Test 1',\n",
              "       'Test 2', 'Test 3', 'Test 4', 'Test 5', 'Parental consent', 'Follow-up',\n",
              "       'Gender', 'Birth asphyxia',\n",
              "       'Autopsy shows birth defect (if applicable)',\n",
              "       'Folic acid details (peri-conceptional)',\n",
              "       'H/O serious maternal illness', 'H/O radiation exposure (x-ray)',\n",
              "       'H/O substance abuse', 'Assisted conception IVF/ART',\n",
              "       'History of anomalies in previous pregnancies',\n",
              "       'No. of previous abortion', 'Birth defects',\n",
              "       'White Blood cell count (thousand per microliter)', 'Blood test result',\n",
              "       'Symptom 1', 'Symptom 2', 'Symptom 3', 'Symptom 4', 'Symptom 5',\n",
              "       'Genetic Disorder', 'Disorder Subclass'],\n",
              "      dtype='object')"
            ]
          },
          "metadata": {},
          "execution_count": 136
        }
      ],
      "source": [
        "df_train.columns"
      ]
    },
    {
      "cell_type": "code",
      "execution_count": null,
      "metadata": {
        "id": "wa8uxZpzlv4l"
      },
      "outputs": [],
      "source": [
        "# Extract the mode of the column\n",
        "mode_value = df_train['Inherited from father'].mode()[0]\n",
        "\n",
        "# Fill missing values with the mode\n",
        "df_train['Inherited from father'].fillna(mode_value, inplace=True)"
      ]
    },
    {
      "cell_type": "code",
      "execution_count": null,
      "metadata": {
        "id": "DgK86oZgmIBx"
      },
      "outputs": [],
      "source": [
        "# Extract the mode of the column\n",
        "mode_value = df_train['Maternal gene'].mode()[0]\n",
        "\n",
        "# Fill missing values with the mode\n",
        "df_train['Maternal gene'].fillna(mode_value, inplace=True)"
      ]
    },
    {
      "cell_type": "code",
      "execution_count": null,
      "metadata": {
        "id": "0DkRQxkcmJcB"
      },
      "outputs": [],
      "source": [
        "df_train['Mother\\'s age'].fillna(df_train['Mother\\'s age'].mean(), inplace=True)"
      ]
    },
    {
      "cell_type": "code",
      "execution_count": null,
      "metadata": {
        "id": "mSWZ9rHemLOR"
      },
      "outputs": [],
      "source": [
        "df_train['Father\\'s age'].fillna(df_train['Father\\'s age'].mean(), inplace=True)"
      ]
    },
    {
      "cell_type": "code",
      "execution_count": null,
      "metadata": {
        "id": "NAQ_ZdGFmM5J"
      },
      "outputs": [],
      "source": [
        "# Extract the mode of the column\n",
        "mode_value = df_train['Respiratory Rate (breaths/min)'].mode()[0]\n",
        "\n",
        "# Fill missing values with the mode\n",
        "df_train['Respiratory Rate (breaths/min)'].fillna(mode_value, inplace=True)"
      ]
    },
    {
      "cell_type": "code",
      "execution_count": null,
      "metadata": {
        "id": "rExKmrzdmOrp"
      },
      "outputs": [],
      "source": [
        "# Extract the mode of the column\n",
        "mode_value = df_train['Heart Rate (rates/min'].mode()[0]\n",
        "\n",
        "# Fill missing values with the mode\n",
        "df_train['Heart Rate (rates/min'].fillna(mode_value, inplace=True)"
      ]
    },
    {
      "cell_type": "code",
      "execution_count": null,
      "metadata": {
        "id": "7hJW7gfDmQhZ"
      },
      "outputs": [],
      "source": [
        "# Extract the mode of the column\n",
        "mode_value = df_train['Parental consent'].mode()[0]\n",
        "\n",
        "# Fill missing values with the mode\n",
        "df_train['Parental consent'].fillna(mode_value, inplace=True)"
      ]
    },
    {
      "cell_type": "code",
      "execution_count": null,
      "metadata": {
        "id": "rmD59vbpmSZh"
      },
      "outputs": [],
      "source": [
        "# Extract the mode of the column\n",
        "mode_value = df_train['Follow-up'].mode()[0]\n",
        "\n",
        "# Fill missing values with the mode\n",
        "df_train['Follow-up'].fillna(mode_value, inplace=True)"
      ]
    },
    {
      "cell_type": "code",
      "execution_count": null,
      "metadata": {
        "id": "wIntpCbwmUJR"
      },
      "outputs": [],
      "source": [
        "# Extract the mode of the column\n",
        "mode_value = df_train['Gender'].mode()[0]\n",
        "\n",
        "# Fill missing values with the mode\n",
        "df_train['Gender'].fillna(mode_value, inplace=True)"
      ]
    },
    {
      "cell_type": "code",
      "execution_count": null,
      "metadata": {
        "id": "cajmhj9WmVjZ"
      },
      "outputs": [],
      "source": [
        "# Extract the mode of the column\n",
        "mode_value = df_train['Birth asphyxia'].mode()[0]\n",
        "\n",
        "# Fill missing values with the mode\n",
        "df_train['Birth asphyxia'].fillna(mode_value, inplace=True)"
      ]
    },
    {
      "cell_type": "code",
      "execution_count": null,
      "metadata": {
        "id": "jN2BlW26mXQw"
      },
      "outputs": [],
      "source": [
        "# Extract the mode of the column\n",
        "mode_value = df_train['Autopsy shows birth defect (if applicable)'].mode()[0]\n",
        "\n",
        "# Fill missing values with the mode\n",
        "df_train['Autopsy shows birth defect (if applicable)'].fillna(mode_value, inplace=True)"
      ]
    },
    {
      "cell_type": "code",
      "execution_count": null,
      "metadata": {
        "id": "w3aVI9jJmdjg"
      },
      "outputs": [],
      "source": [
        "# Extract the mode of the column\n",
        "mode_value = df_train['Folic acid details (peri-conceptional)'].mode()[0]\n",
        "\n",
        "# Fill missing values with the mode\n",
        "df_train['Folic acid details (peri-conceptional)'].fillna(mode_value, inplace=True)"
      ]
    },
    {
      "cell_type": "code",
      "execution_count": null,
      "metadata": {
        "id": "QQ6weY0bmfLg"
      },
      "outputs": [],
      "source": [
        "# Extract the mode of the column\n",
        "mode_value = df_train['H/O serious maternal illness'].mode()[0]\n",
        "\n",
        "# Fill missing values with the mode\n",
        "df_train['H/O serious maternal illness'].fillna(mode_value, inplace=True)"
      ]
    },
    {
      "cell_type": "code",
      "execution_count": null,
      "metadata": {
        "id": "0Z25aCa0mgzf"
      },
      "outputs": [],
      "source": [
        "# Extract the mode of the column\n",
        "mode_value = df_train['H/O radiation exposure (x-ray)'].mode()[0]\n",
        "\n",
        "# Fill missing values with the mode\n",
        "df_train['H/O radiation exposure (x-ray)'].fillna(mode_value, inplace=True)"
      ]
    },
    {
      "cell_type": "code",
      "execution_count": null,
      "metadata": {
        "id": "jLJfj8M5mi-A"
      },
      "outputs": [],
      "source": [
        "# Extract the mode of the column\n",
        "mode_value = df_train['H/O substance abuse'].mode()[0]\n",
        "\n",
        "# Fill missing values with the mode\n",
        "df_train['H/O substance abuse'].fillna(mode_value, inplace=True)"
      ]
    },
    {
      "cell_type": "code",
      "execution_count": null,
      "metadata": {
        "id": "llQAHNq0mkrY"
      },
      "outputs": [],
      "source": [
        "# Extract the mode of the column\n",
        "mode_value = df_train['Assisted conception IVF/ART'].mode()[0]\n",
        "\n",
        "# Fill missing values with the mode\n",
        "df_train['Assisted conception IVF/ART'].fillna(mode_value, inplace=True)"
      ]
    },
    {
      "cell_type": "code",
      "execution_count": null,
      "metadata": {
        "id": "KxlFGIiNmmYP"
      },
      "outputs": [],
      "source": [
        "# Extract the mode of the column\n",
        "mode_value = df_train['History of anomalies in previous pregnancies'].mode()[0]\n",
        "\n",
        "# Fill missing values with the mode\n",
        "df_train['History of anomalies in previous pregnancies'].fillna(mode_value, inplace=True)"
      ]
    },
    {
      "cell_type": "code",
      "execution_count": null,
      "metadata": {
        "id": "4k0N0Li3moFf"
      },
      "outputs": [],
      "source": [
        "# Extract the mode of the column\n",
        "mode_value = df_train['Birth defects'].mode()[0]\n",
        "\n",
        "# Fill missing values with the mode\n",
        "df_train['Birth defects'].fillna(mode_value, inplace=True)"
      ]
    },
    {
      "cell_type": "code",
      "execution_count": null,
      "metadata": {
        "id": "sJk0AmNbmpma"
      },
      "outputs": [],
      "source": [
        "# Extract the mode of the column\n",
        "mode_value = df_train['Blood test result'].mode()[0]\n",
        "\n",
        "# Fill missing values with the mode\n",
        "df_train['Blood test result'].fillna(mode_value, inplace=True)"
      ]
    },
    {
      "cell_type": "code",
      "execution_count": null,
      "metadata": {
        "id": "6ESfXOMrmrL3"
      },
      "outputs": [],
      "source": [
        "# Extract the mode of the column\n",
        "mode_value = df_train['Genetic Disorder'].mode()[0]\n",
        "\n",
        "# Fill missing values with the mode\n",
        "df_train['Genetic Disorder'].fillna(mode_value, inplace=True)"
      ]
    },
    {
      "cell_type": "code",
      "execution_count": null,
      "metadata": {
        "id": "6yA7l34vms6Y"
      },
      "outputs": [],
      "source": [
        "# Extract the mode of the column\n",
        "mode_value = df_train['Disorder Subclass'].mode()[0]\n",
        "\n",
        "# Fill missing values with the mode\n",
        "df_train['Disorder Subclass'].fillna(mode_value, inplace=True)"
      ]
    },
    {
      "cell_type": "code",
      "execution_count": null,
      "metadata": {
        "id": "tWahM4MumuZ_"
      },
      "outputs": [],
      "source": [
        "df_train['Test 1'].fillna(df_train['Test 1'].mean(), inplace=True)"
      ]
    },
    {
      "cell_type": "code",
      "execution_count": null,
      "metadata": {
        "id": "QFof3djCmwy_"
      },
      "outputs": [],
      "source": [
        "df_train['Test 2'].fillna(df_train['Test 2'].mean(), inplace=True)"
      ]
    },
    {
      "cell_type": "code",
      "execution_count": null,
      "metadata": {
        "id": "pustjy68myOf"
      },
      "outputs": [],
      "source": [
        "df_train['Test 3'].fillna(df_train['Test 3'].mean(), inplace=True)"
      ]
    },
    {
      "cell_type": "code",
      "execution_count": null,
      "metadata": {
        "id": "_I74nHIFmz4J"
      },
      "outputs": [],
      "source": [
        "df_train['Test 4'].fillna(df_train['Test 4'].mean(), inplace=True)"
      ]
    },
    {
      "cell_type": "code",
      "execution_count": null,
      "metadata": {
        "id": "I0Kbkxf7m1VC"
      },
      "outputs": [],
      "source": [
        "df_train['Test 5'].fillna(df_train['Test 5'].mean(), inplace=True)"
      ]
    },
    {
      "cell_type": "code",
      "execution_count": null,
      "metadata": {
        "id": "07X_xymzm5w8"
      },
      "outputs": [],
      "source": [
        "df_train['No. of previous abortion'].fillna(df_train['No. of previous abortion'].mean(), inplace=True)"
      ]
    },
    {
      "cell_type": "code",
      "execution_count": null,
      "metadata": {
        "id": "Zb-YNklGm-CC"
      },
      "outputs": [],
      "source": [
        "df_train['White Blood cell count (thousand per microliter)'].fillna(df_train['White Blood cell count (thousand per microliter)'].mean(), inplace=True)"
      ]
    },
    {
      "cell_type": "code",
      "execution_count": null,
      "metadata": {
        "id": "BDyFcye4nAQC"
      },
      "outputs": [],
      "source": [
        "df_train['Symptom 1'].fillna(df_train['Symptom 1'].mean(), inplace=True)"
      ]
    },
    {
      "cell_type": "code",
      "execution_count": null,
      "metadata": {
        "id": "0akElmQfnCIy"
      },
      "outputs": [],
      "source": [
        "df_train['Symptom 2'].fillna(df_train['Symptom 2'].mean(), inplace=True)"
      ]
    },
    {
      "cell_type": "code",
      "execution_count": null,
      "metadata": {
        "id": "_ogZyfqtnDhQ"
      },
      "outputs": [],
      "source": [
        "df_train['Symptom 3'].fillna(df_train['Symptom 3'].mean(), inplace=True)"
      ]
    },
    {
      "cell_type": "code",
      "execution_count": null,
      "metadata": {
        "id": "3gdyc7HonFII"
      },
      "outputs": [],
      "source": [
        "df_train['Symptom 4'].fillna(df_train['Symptom 4'].mean(), inplace=True)"
      ]
    },
    {
      "cell_type": "code",
      "execution_count": null,
      "metadata": {
        "id": "8Tsr4ZC8nGxw"
      },
      "outputs": [],
      "source": [
        "df_train['Symptom 5'].fillna(df_train['Symptom 5'].mean(), inplace=True)"
      ]
    },
    {
      "cell_type": "code",
      "execution_count": null,
      "metadata": {
        "colab": {
          "base_uri": "https://localhost:8080/"
        },
        "id": "jEeYRl09nIa5",
        "outputId": "ba9249e4-2d63-40cc-a88f-37c861d579db"
      },
      "outputs": [
        {
          "output_type": "execute_result",
          "data": {
            "text/plain": [
              "Patient Age                                         0\n",
              "Genes in mother's side                              0\n",
              "Inherited from father                               0\n",
              "Maternal gene                                       0\n",
              "Paternal gene                                       0\n",
              "Blood cell count (mcL)                              0\n",
              "Mother's age                                        0\n",
              "Father's age                                        0\n",
              "Status                                              0\n",
              "Respiratory Rate (breaths/min)                      0\n",
              "Heart Rate (rates/min                               0\n",
              "Test 1                                              0\n",
              "Test 2                                              0\n",
              "Test 3                                              0\n",
              "Test 4                                              0\n",
              "Test 5                                              0\n",
              "Parental consent                                    0\n",
              "Follow-up                                           0\n",
              "Gender                                              0\n",
              "Birth asphyxia                                      0\n",
              "Autopsy shows birth defect (if applicable)          0\n",
              "Folic acid details (peri-conceptional)              0\n",
              "H/O serious maternal illness                        0\n",
              "H/O radiation exposure (x-ray)                      0\n",
              "H/O substance abuse                                 0\n",
              "Assisted conception IVF/ART                         0\n",
              "History of anomalies in previous pregnancies        0\n",
              "No. of previous abortion                            0\n",
              "Birth defects                                       0\n",
              "White Blood cell count (thousand per microliter)    0\n",
              "Blood test result                                   0\n",
              "Symptom 1                                           0\n",
              "Symptom 2                                           0\n",
              "Symptom 3                                           0\n",
              "Symptom 4                                           0\n",
              "Symptom 5                                           0\n",
              "Genetic Disorder                                    0\n",
              "Disorder Subclass                                   0\n",
              "dtype: int64"
            ]
          },
          "metadata": {},
          "execution_count": 170
        }
      ],
      "source": [
        "df_train.isnull().sum()"
      ]
    },
    {
      "cell_type": "code",
      "execution_count": null,
      "metadata": {
        "id": "fbnOk3FgnKbg"
      },
      "outputs": [],
      "source": [
        "df_train[\"total test\"]=(df_train[\"Test 1\"]+df_train[\"Test 2\"]+df_train[\"Test 3\"]+df_train[\"Test 4\"]+df_train[\"Test 5\"])/5"
      ]
    },
    {
      "cell_type": "code",
      "execution_count": null,
      "metadata": {
        "id": "cE93gmR4nMnx"
      },
      "outputs": [],
      "source": [
        "df_train = df_train[(df_train >= 0).all(1)]"
      ]
    },
    {
      "cell_type": "code",
      "execution_count": null,
      "metadata": {
        "id": "pLS3sRjfnSRe"
      },
      "outputs": [],
      "source": [
        "df_train[\"total symptom\"] = (df_train[\"Symptom 1\"] + df_train[\"Symptom 2\"] + df_train[\"Symptom 3\"] + df_train[\"Symptom 4\"] + df_train[\"Symptom 5\"]) / 5\n"
      ]
    },
    {
      "cell_type": "code",
      "execution_count": null,
      "metadata": {
        "colab": {
          "base_uri": "https://localhost:8080/"
        },
        "id": "Z4omz6j7nT0G",
        "outputId": "031815cf-35b7-465c-c33b-4f95eeb8bfcc"
      },
      "outputs": [
        {
          "output_type": "stream",
          "name": "stdout",
          "text": [
            "<class 'pandas.core.frame.DataFrame'>\n",
            "RangeIndex: 22083 entries, 0 to 22082\n",
            "Data columns (total 40 columns):\n",
            " #   Column                                            Non-Null Count  Dtype  \n",
            "---  ------                                            --------------  -----  \n",
            " 0   Patient Age                                       22083 non-null  float64\n",
            " 1   Genes in mother's side                            22083 non-null  int64  \n",
            " 2   Inherited from father                             22083 non-null  int64  \n",
            " 3   Maternal gene                                     22083 non-null  int64  \n",
            " 4   Paternal gene                                     22083 non-null  int64  \n",
            " 5   Blood cell count (mcL)                            22083 non-null  float64\n",
            " 6   Mother's age                                      22083 non-null  float64\n",
            " 7   Father's age                                      22083 non-null  float64\n",
            " 8   Status                                            22083 non-null  int64  \n",
            " 9   Respiratory Rate (breaths/min)                    22083 non-null  int64  \n",
            " 10  Heart Rate (rates/min                             22083 non-null  int64  \n",
            " 11  Test 1                                            22083 non-null  float64\n",
            " 12  Test 2                                            22083 non-null  float64\n",
            " 13  Test 3                                            22083 non-null  float64\n",
            " 14  Test 4                                            22083 non-null  float64\n",
            " 15  Test 5                                            22083 non-null  float64\n",
            " 16  Parental consent                                  22083 non-null  int64  \n",
            " 17  Follow-up                                         22083 non-null  int64  \n",
            " 18  Gender                                            22083 non-null  int64  \n",
            " 19  Birth asphyxia                                    22083 non-null  int64  \n",
            " 20  Autopsy shows birth defect (if applicable)        22083 non-null  int64  \n",
            " 21  Folic acid details (peri-conceptional)            22083 non-null  int64  \n",
            " 22  H/O serious maternal illness                      22083 non-null  int64  \n",
            " 23  H/O radiation exposure (x-ray)                    22083 non-null  int64  \n",
            " 24  H/O substance abuse                               22083 non-null  int64  \n",
            " 25  Assisted conception IVF/ART                       22083 non-null  int64  \n",
            " 26  History of anomalies in previous pregnancies      22083 non-null  int64  \n",
            " 27  No. of previous abortion                          22083 non-null  float64\n",
            " 28  Birth defects                                     22083 non-null  int64  \n",
            " 29  White Blood cell count (thousand per microliter)  22083 non-null  float64\n",
            " 30  Blood test result                                 22083 non-null  int64  \n",
            " 31  Symptom 1                                         22083 non-null  float64\n",
            " 32  Symptom 2                                         22083 non-null  float64\n",
            " 33  Symptom 3                                         22083 non-null  float64\n",
            " 34  Symptom 4                                         22083 non-null  float64\n",
            " 35  Symptom 5                                         22083 non-null  float64\n",
            " 36  Genetic Disorder                                  22083 non-null  int64  \n",
            " 37  Disorder Subclass                                 22083 non-null  int64  \n",
            " 38  total test                                        22083 non-null  float64\n",
            " 39  total symptom                                     22083 non-null  float64\n",
            "dtypes: float64(18), int64(22)\n",
            "memory usage: 6.7 MB\n"
          ]
        }
      ],
      "source": [
        "df_train.info()"
      ]
    },
    {
      "cell_type": "code",
      "execution_count": null,
      "metadata": {
        "id": "kkDc5QGvnVT1"
      },
      "outputs": [],
      "source": [
        "df_train.drop([\"Test 1\", \"Test 2\", \"Test 3\", \"Test 4\", \"Test 5\"], axis=1,inplace=True)\n",
        "df_train.drop([\"Symptom 1\", \"Symptom 2\", \"Symptom 3\", \"Symptom 4\", \"Symptom 5\"], axis=1,inplace=True)"
      ]
    },
    {
      "cell_type": "code",
      "execution_count": null,
      "metadata": {
        "colab": {
          "base_uri": "https://localhost:8080/",
          "height": 795
        },
        "id": "mmV7y6MJnZDm",
        "outputId": "19789a0e-5b6a-47dd-c84c-46436eea8ac0"
      },
      "outputs": [
        {
          "output_type": "execute_result",
          "data": {
            "text/plain": [
              "    Patient Age  Genes in mother's side  Inherited from father  Maternal gene  \\\n",
              "0      2.000000                       1                      0              1   \n",
              "1      4.000000                       1                      1              0   \n",
              "2      6.000000                       1                      0              0   \n",
              "3     12.000000                       1                      0              1   \n",
              "4     11.000000                       1                      0              2   \n",
              "5     14.000000                       1                      0              1   \n",
              "6      3.000000                       1                      0              1   \n",
              "7      3.000000                       0                      0              1   \n",
              "8     11.000000                       0                      0              1   \n",
              "9      4.000000                       0                      1              1   \n",
              "10     6.000000                       1                      0              2   \n",
              "11     7.000000                       0                      0              0   \n",
              "12     1.000000                       1                      1              0   \n",
              "13     0.000000                       1                      0              0   \n",
              "14     6.000000                       1                      0              1   \n",
              "15     0.000000                       0                      0              0   \n",
              "16     0.000000                       1                      1              0   \n",
              "17     6.974148                       0                      0              0   \n",
              "18    10.000000                       1                      1              1   \n",
              "19     6.000000                       0                      1              1   \n",
              "\n",
              "    Paternal gene  Blood cell count (mcL)  Mother's age  Father's age  Status  \\\n",
              "0               0                4.760603     34.526454     41.972852       0   \n",
              "1               0                4.910669     34.526454     23.000000       1   \n",
              "2               0                4.893297     41.000000     22.000000       0   \n",
              "3               0                4.705280     21.000000     41.972852       1   \n",
              "4               1                4.720703     32.000000     41.972852       0   \n",
              "5               0                5.103188     34.526454     41.972852       1   \n",
              "6               1                4.901080     34.526454     63.000000       0   \n",
              "7               1                4.964816     40.000000     41.972852       0   \n",
              "8               0                5.209058     45.000000     44.000000       0   \n",
              "9               1                4.752272     44.000000     42.000000       0   \n",
              "10              0                4.750824     34.526454     41.972852       1   \n",
              "11              1                4.848795     34.526454     41.972852       1   \n",
              "12              0                4.612265     50.000000     56.000000       1   \n",
              "13              1                4.807778     28.000000     41.972852       1   \n",
              "14              0                4.620420     41.000000     20.000000       0   \n",
              "15              0                4.918570     30.000000     24.000000       0   \n",
              "16              0                4.798520     34.526454     57.000000       0   \n",
              "17              0                4.952457     24.000000     24.000000       1   \n",
              "18              0                4.751452     40.000000     57.000000       1   \n",
              "19              1                4.876896     36.000000     48.000000       1   \n",
              "\n",
              "    Respiratory Rate (breaths/min)  ...  Assisted conception IVF/ART  \\\n",
              "0                                0  ...                            0   \n",
              "1                                1  ...                            0   \n",
              "2                                0  ...                            1   \n",
              "3                                1  ...                            2   \n",
              "4                                1  ...                            1   \n",
              "5                                2  ...                            2   \n",
              "6                                0  ...                            1   \n",
              "7                                1  ...                            0   \n",
              "8                                1  ...                            0   \n",
              "9                                1  ...                            1   \n",
              "10                               1  ...                            1   \n",
              "11                               0  ...                            0   \n",
              "12                               0  ...                            1   \n",
              "13                               2  ...                            0   \n",
              "14                               1  ...                            0   \n",
              "15                               0  ...                            2   \n",
              "16                               0  ...                            0   \n",
              "17                               1  ...                            2   \n",
              "18                               0  ...                            1   \n",
              "19                               1  ...                            1   \n",
              "\n",
              "    History of anomalies in previous pregnancies  No. of previous abortion  \\\n",
              "0                                              1                  2.003062   \n",
              "1                                              1                  2.003062   \n",
              "2                                              1                  4.000000   \n",
              "3                                              1                  1.000000   \n",
              "4                                              0                  4.000000   \n",
              "5                                              0                  0.000000   \n",
              "6                                              0                  3.000000   \n",
              "7                                              1                  1.000000   \n",
              "8                                              1                  0.000000   \n",
              "9                                              1                  1.000000   \n",
              "10                                             2                  1.000000   \n",
              "11                                             1                  2.003062   \n",
              "12                                             1                  0.000000   \n",
              "13                                             1                  4.000000   \n",
              "14                                             0                  3.000000   \n",
              "15                                             1                  2.000000   \n",
              "16                                             1                  4.000000   \n",
              "17                                             2                  1.000000   \n",
              "18                                             1                  3.000000   \n",
              "19                                             0                  1.000000   \n",
              "\n",
              "    Birth defects  White Blood cell count (thousand per microliter)  \\\n",
              "0               2                                          9.857562   \n",
              "1               0                                          5.522560   \n",
              "2               1                                          7.486224   \n",
              "3               1                                          7.919321   \n",
              "4               0                                          4.098210   \n",
              "5               0                                         10.272230   \n",
              "6               0                                          6.825974   \n",
              "7               1                                          9.836352   \n",
              "8               0                                          6.669552   \n",
              "9               0                                          6.397702   \n",
              "10              1                                          5.957321   \n",
              "11              0                                          8.409691   \n",
              "12              1                                          7.995115   \n",
              "13              0                                          8.440593   \n",
              "14              0                                          3.000000   \n",
              "15              0                                          7.486224   \n",
              "16              0                                          7.486224   \n",
              "17              2                                         10.031078   \n",
              "18              1                                          9.382407   \n",
              "19              1                                          7.370477   \n",
              "\n",
              "    Blood test result  Genetic Disorder  Disorder Subclass  total test  \\\n",
              "0                   4                 0                  5         0.2   \n",
              "1                   2                 3                  2         0.2   \n",
              "2                   2                 1                  3         0.2   \n",
              "3                   1                 0                  6         0.2   \n",
              "4                   4                 1                  1         0.2   \n",
              "5                   2                 2                  2         0.2   \n",
              "6                   2                 2                  8         0.2   \n",
              "7                   1                 2                  8         0.2   \n",
              "8                   3                 0                  6         0.2   \n",
              "9                   0                 1                  3         0.2   \n",
              "10                  0                 2                  4         0.2   \n",
              "11                  3                 2                  2         0.2   \n",
              "12                  3                 0                  6         0.2   \n",
              "13                  0                 3                  6         0.2   \n",
              "14                  3                 0                  6         0.2   \n",
              "15                  2                 0                  7         0.2   \n",
              "16                  2                 2                  2         0.2   \n",
              "17                  1                 2                  2         0.2   \n",
              "18                  0                 0                  7         0.2   \n",
              "19                  2                 2                  4         0.2   \n",
              "\n",
              "    total symptom  \n",
              "0        1.000000  \n",
              "1        0.710377  \n",
              "2        0.800000  \n",
              "3        0.200000  \n",
              "4        0.092383  \n",
              "5        0.400000  \n",
              "6        0.000000  \n",
              "7        0.299549  \n",
              "8        0.800000  \n",
              "9        0.600000  \n",
              "10       0.402760  \n",
              "11       0.800000  \n",
              "12       0.600000  \n",
              "13       0.400000  \n",
              "14       0.600000  \n",
              "15       0.409926  \n",
              "16       0.899549  \n",
              "17       0.800000  \n",
              "18       0.400000  \n",
              "19       0.200000  \n",
              "\n",
              "[20 rows x 30 columns]"
            ],
            "text/html": [
              "\n",
              "  <div id=\"df-889ac4c2-e4f2-45b8-80b6-aaa2578825cb\" class=\"colab-df-container\">\n",
              "    <div>\n",
              "<style scoped>\n",
              "    .dataframe tbody tr th:only-of-type {\n",
              "        vertical-align: middle;\n",
              "    }\n",
              "\n",
              "    .dataframe tbody tr th {\n",
              "        vertical-align: top;\n",
              "    }\n",
              "\n",
              "    .dataframe thead th {\n",
              "        text-align: right;\n",
              "    }\n",
              "</style>\n",
              "<table border=\"1\" class=\"dataframe\">\n",
              "  <thead>\n",
              "    <tr style=\"text-align: right;\">\n",
              "      <th></th>\n",
              "      <th>Patient Age</th>\n",
              "      <th>Genes in mother's side</th>\n",
              "      <th>Inherited from father</th>\n",
              "      <th>Maternal gene</th>\n",
              "      <th>Paternal gene</th>\n",
              "      <th>Blood cell count (mcL)</th>\n",
              "      <th>Mother's age</th>\n",
              "      <th>Father's age</th>\n",
              "      <th>Status</th>\n",
              "      <th>Respiratory Rate (breaths/min)</th>\n",
              "      <th>...</th>\n",
              "      <th>Assisted conception IVF/ART</th>\n",
              "      <th>History of anomalies in previous pregnancies</th>\n",
              "      <th>No. of previous abortion</th>\n",
              "      <th>Birth defects</th>\n",
              "      <th>White Blood cell count (thousand per microliter)</th>\n",
              "      <th>Blood test result</th>\n",
              "      <th>Genetic Disorder</th>\n",
              "      <th>Disorder Subclass</th>\n",
              "      <th>total test</th>\n",
              "      <th>total symptom</th>\n",
              "    </tr>\n",
              "  </thead>\n",
              "  <tbody>\n",
              "    <tr>\n",
              "      <th>0</th>\n",
              "      <td>2.000000</td>\n",
              "      <td>1</td>\n",
              "      <td>0</td>\n",
              "      <td>1</td>\n",
              "      <td>0</td>\n",
              "      <td>4.760603</td>\n",
              "      <td>34.526454</td>\n",
              "      <td>41.972852</td>\n",
              "      <td>0</td>\n",
              "      <td>0</td>\n",
              "      <td>...</td>\n",
              "      <td>0</td>\n",
              "      <td>1</td>\n",
              "      <td>2.003062</td>\n",
              "      <td>2</td>\n",
              "      <td>9.857562</td>\n",
              "      <td>4</td>\n",
              "      <td>0</td>\n",
              "      <td>5</td>\n",
              "      <td>0.2</td>\n",
              "      <td>1.000000</td>\n",
              "    </tr>\n",
              "    <tr>\n",
              "      <th>1</th>\n",
              "      <td>4.000000</td>\n",
              "      <td>1</td>\n",
              "      <td>1</td>\n",
              "      <td>0</td>\n",
              "      <td>0</td>\n",
              "      <td>4.910669</td>\n",
              "      <td>34.526454</td>\n",
              "      <td>23.000000</td>\n",
              "      <td>1</td>\n",
              "      <td>1</td>\n",
              "      <td>...</td>\n",
              "      <td>0</td>\n",
              "      <td>1</td>\n",
              "      <td>2.003062</td>\n",
              "      <td>0</td>\n",
              "      <td>5.522560</td>\n",
              "      <td>2</td>\n",
              "      <td>3</td>\n",
              "      <td>2</td>\n",
              "      <td>0.2</td>\n",
              "      <td>0.710377</td>\n",
              "    </tr>\n",
              "    <tr>\n",
              "      <th>2</th>\n",
              "      <td>6.000000</td>\n",
              "      <td>1</td>\n",
              "      <td>0</td>\n",
              "      <td>0</td>\n",
              "      <td>0</td>\n",
              "      <td>4.893297</td>\n",
              "      <td>41.000000</td>\n",
              "      <td>22.000000</td>\n",
              "      <td>0</td>\n",
              "      <td>0</td>\n",
              "      <td>...</td>\n",
              "      <td>1</td>\n",
              "      <td>1</td>\n",
              "      <td>4.000000</td>\n",
              "      <td>1</td>\n",
              "      <td>7.486224</td>\n",
              "      <td>2</td>\n",
              "      <td>1</td>\n",
              "      <td>3</td>\n",
              "      <td>0.2</td>\n",
              "      <td>0.800000</td>\n",
              "    </tr>\n",
              "    <tr>\n",
              "      <th>3</th>\n",
              "      <td>12.000000</td>\n",
              "      <td>1</td>\n",
              "      <td>0</td>\n",
              "      <td>1</td>\n",
              "      <td>0</td>\n",
              "      <td>4.705280</td>\n",
              "      <td>21.000000</td>\n",
              "      <td>41.972852</td>\n",
              "      <td>1</td>\n",
              "      <td>1</td>\n",
              "      <td>...</td>\n",
              "      <td>2</td>\n",
              "      <td>1</td>\n",
              "      <td>1.000000</td>\n",
              "      <td>1</td>\n",
              "      <td>7.919321</td>\n",
              "      <td>1</td>\n",
              "      <td>0</td>\n",
              "      <td>6</td>\n",
              "      <td>0.2</td>\n",
              "      <td>0.200000</td>\n",
              "    </tr>\n",
              "    <tr>\n",
              "      <th>4</th>\n",
              "      <td>11.000000</td>\n",
              "      <td>1</td>\n",
              "      <td>0</td>\n",
              "      <td>2</td>\n",
              "      <td>1</td>\n",
              "      <td>4.720703</td>\n",
              "      <td>32.000000</td>\n",
              "      <td>41.972852</td>\n",
              "      <td>0</td>\n",
              "      <td>1</td>\n",
              "      <td>...</td>\n",
              "      <td>1</td>\n",
              "      <td>0</td>\n",
              "      <td>4.000000</td>\n",
              "      <td>0</td>\n",
              "      <td>4.098210</td>\n",
              "      <td>4</td>\n",
              "      <td>1</td>\n",
              "      <td>1</td>\n",
              "      <td>0.2</td>\n",
              "      <td>0.092383</td>\n",
              "    </tr>\n",
              "    <tr>\n",
              "      <th>5</th>\n",
              "      <td>14.000000</td>\n",
              "      <td>1</td>\n",
              "      <td>0</td>\n",
              "      <td>1</td>\n",
              "      <td>0</td>\n",
              "      <td>5.103188</td>\n",
              "      <td>34.526454</td>\n",
              "      <td>41.972852</td>\n",
              "      <td>1</td>\n",
              "      <td>2</td>\n",
              "      <td>...</td>\n",
              "      <td>2</td>\n",
              "      <td>0</td>\n",
              "      <td>0.000000</td>\n",
              "      <td>0</td>\n",
              "      <td>10.272230</td>\n",
              "      <td>2</td>\n",
              "      <td>2</td>\n",
              "      <td>2</td>\n",
              "      <td>0.2</td>\n",
              "      <td>0.400000</td>\n",
              "    </tr>\n",
              "    <tr>\n",
              "      <th>6</th>\n",
              "      <td>3.000000</td>\n",
              "      <td>1</td>\n",
              "      <td>0</td>\n",
              "      <td>1</td>\n",
              "      <td>1</td>\n",
              "      <td>4.901080</td>\n",
              "      <td>34.526454</td>\n",
              "      <td>63.000000</td>\n",
              "      <td>0</td>\n",
              "      <td>0</td>\n",
              "      <td>...</td>\n",
              "      <td>1</td>\n",
              "      <td>0</td>\n",
              "      <td>3.000000</td>\n",
              "      <td>0</td>\n",
              "      <td>6.825974</td>\n",
              "      <td>2</td>\n",
              "      <td>2</td>\n",
              "      <td>8</td>\n",
              "      <td>0.2</td>\n",
              "      <td>0.000000</td>\n",
              "    </tr>\n",
              "    <tr>\n",
              "      <th>7</th>\n",
              "      <td>3.000000</td>\n",
              "      <td>0</td>\n",
              "      <td>0</td>\n",
              "      <td>1</td>\n",
              "      <td>1</td>\n",
              "      <td>4.964816</td>\n",
              "      <td>40.000000</td>\n",
              "      <td>41.972852</td>\n",
              "      <td>0</td>\n",
              "      <td>1</td>\n",
              "      <td>...</td>\n",
              "      <td>0</td>\n",
              "      <td>1</td>\n",
              "      <td>1.000000</td>\n",
              "      <td>1</td>\n",
              "      <td>9.836352</td>\n",
              "      <td>1</td>\n",
              "      <td>2</td>\n",
              "      <td>8</td>\n",
              "      <td>0.2</td>\n",
              "      <td>0.299549</td>\n",
              "    </tr>\n",
              "    <tr>\n",
              "      <th>8</th>\n",
              "      <td>11.000000</td>\n",
              "      <td>0</td>\n",
              "      <td>0</td>\n",
              "      <td>1</td>\n",
              "      <td>0</td>\n",
              "      <td>5.209058</td>\n",
              "      <td>45.000000</td>\n",
              "      <td>44.000000</td>\n",
              "      <td>0</td>\n",
              "      <td>1</td>\n",
              "      <td>...</td>\n",
              "      <td>0</td>\n",
              "      <td>1</td>\n",
              "      <td>0.000000</td>\n",
              "      <td>0</td>\n",
              "      <td>6.669552</td>\n",
              "      <td>3</td>\n",
              "      <td>0</td>\n",
              "      <td>6</td>\n",
              "      <td>0.2</td>\n",
              "      <td>0.800000</td>\n",
              "    </tr>\n",
              "    <tr>\n",
              "      <th>9</th>\n",
              "      <td>4.000000</td>\n",
              "      <td>0</td>\n",
              "      <td>1</td>\n",
              "      <td>1</td>\n",
              "      <td>1</td>\n",
              "      <td>4.752272</td>\n",
              "      <td>44.000000</td>\n",
              "      <td>42.000000</td>\n",
              "      <td>0</td>\n",
              "      <td>1</td>\n",
              "      <td>...</td>\n",
              "      <td>1</td>\n",
              "      <td>1</td>\n",
              "      <td>1.000000</td>\n",
              "      <td>0</td>\n",
              "      <td>6.397702</td>\n",
              "      <td>0</td>\n",
              "      <td>1</td>\n",
              "      <td>3</td>\n",
              "      <td>0.2</td>\n",
              "      <td>0.600000</td>\n",
              "    </tr>\n",
              "    <tr>\n",
              "      <th>10</th>\n",
              "      <td>6.000000</td>\n",
              "      <td>1</td>\n",
              "      <td>0</td>\n",
              "      <td>2</td>\n",
              "      <td>0</td>\n",
              "      <td>4.750824</td>\n",
              "      <td>34.526454</td>\n",
              "      <td>41.972852</td>\n",
              "      <td>1</td>\n",
              "      <td>1</td>\n",
              "      <td>...</td>\n",
              "      <td>1</td>\n",
              "      <td>2</td>\n",
              "      <td>1.000000</td>\n",
              "      <td>1</td>\n",
              "      <td>5.957321</td>\n",
              "      <td>0</td>\n",
              "      <td>2</td>\n",
              "      <td>4</td>\n",
              "      <td>0.2</td>\n",
              "      <td>0.402760</td>\n",
              "    </tr>\n",
              "    <tr>\n",
              "      <th>11</th>\n",
              "      <td>7.000000</td>\n",
              "      <td>0</td>\n",
              "      <td>0</td>\n",
              "      <td>0</td>\n",
              "      <td>1</td>\n",
              "      <td>4.848795</td>\n",
              "      <td>34.526454</td>\n",
              "      <td>41.972852</td>\n",
              "      <td>1</td>\n",
              "      <td>0</td>\n",
              "      <td>...</td>\n",
              "      <td>0</td>\n",
              "      <td>1</td>\n",
              "      <td>2.003062</td>\n",
              "      <td>0</td>\n",
              "      <td>8.409691</td>\n",
              "      <td>3</td>\n",
              "      <td>2</td>\n",
              "      <td>2</td>\n",
              "      <td>0.2</td>\n",
              "      <td>0.800000</td>\n",
              "    </tr>\n",
              "    <tr>\n",
              "      <th>12</th>\n",
              "      <td>1.000000</td>\n",
              "      <td>1</td>\n",
              "      <td>1</td>\n",
              "      <td>0</td>\n",
              "      <td>0</td>\n",
              "      <td>4.612265</td>\n",
              "      <td>50.000000</td>\n",
              "      <td>56.000000</td>\n",
              "      <td>1</td>\n",
              "      <td>0</td>\n",
              "      <td>...</td>\n",
              "      <td>1</td>\n",
              "      <td>1</td>\n",
              "      <td>0.000000</td>\n",
              "      <td>1</td>\n",
              "      <td>7.995115</td>\n",
              "      <td>3</td>\n",
              "      <td>0</td>\n",
              "      <td>6</td>\n",
              "      <td>0.2</td>\n",
              "      <td>0.600000</td>\n",
              "    </tr>\n",
              "    <tr>\n",
              "      <th>13</th>\n",
              "      <td>0.000000</td>\n",
              "      <td>1</td>\n",
              "      <td>0</td>\n",
              "      <td>0</td>\n",
              "      <td>1</td>\n",
              "      <td>4.807778</td>\n",
              "      <td>28.000000</td>\n",
              "      <td>41.972852</td>\n",
              "      <td>1</td>\n",
              "      <td>2</td>\n",
              "      <td>...</td>\n",
              "      <td>0</td>\n",
              "      <td>1</td>\n",
              "      <td>4.000000</td>\n",
              "      <td>0</td>\n",
              "      <td>8.440593</td>\n",
              "      <td>0</td>\n",
              "      <td>3</td>\n",
              "      <td>6</td>\n",
              "      <td>0.2</td>\n",
              "      <td>0.400000</td>\n",
              "    </tr>\n",
              "    <tr>\n",
              "      <th>14</th>\n",
              "      <td>6.000000</td>\n",
              "      <td>1</td>\n",
              "      <td>0</td>\n",
              "      <td>1</td>\n",
              "      <td>0</td>\n",
              "      <td>4.620420</td>\n",
              "      <td>41.000000</td>\n",
              "      <td>20.000000</td>\n",
              "      <td>0</td>\n",
              "      <td>1</td>\n",
              "      <td>...</td>\n",
              "      <td>0</td>\n",
              "      <td>0</td>\n",
              "      <td>3.000000</td>\n",
              "      <td>0</td>\n",
              "      <td>3.000000</td>\n",
              "      <td>3</td>\n",
              "      <td>0</td>\n",
              "      <td>6</td>\n",
              "      <td>0.2</td>\n",
              "      <td>0.600000</td>\n",
              "    </tr>\n",
              "    <tr>\n",
              "      <th>15</th>\n",
              "      <td>0.000000</td>\n",
              "      <td>0</td>\n",
              "      <td>0</td>\n",
              "      <td>0</td>\n",
              "      <td>0</td>\n",
              "      <td>4.918570</td>\n",
              "      <td>30.000000</td>\n",
              "      <td>24.000000</td>\n",
              "      <td>0</td>\n",
              "      <td>0</td>\n",
              "      <td>...</td>\n",
              "      <td>2</td>\n",
              "      <td>1</td>\n",
              "      <td>2.000000</td>\n",
              "      <td>0</td>\n",
              "      <td>7.486224</td>\n",
              "      <td>2</td>\n",
              "      <td>0</td>\n",
              "      <td>7</td>\n",
              "      <td>0.2</td>\n",
              "      <td>0.409926</td>\n",
              "    </tr>\n",
              "    <tr>\n",
              "      <th>16</th>\n",
              "      <td>0.000000</td>\n",
              "      <td>1</td>\n",
              "      <td>1</td>\n",
              "      <td>0</td>\n",
              "      <td>0</td>\n",
              "      <td>4.798520</td>\n",
              "      <td>34.526454</td>\n",
              "      <td>57.000000</td>\n",
              "      <td>0</td>\n",
              "      <td>0</td>\n",
              "      <td>...</td>\n",
              "      <td>0</td>\n",
              "      <td>1</td>\n",
              "      <td>4.000000</td>\n",
              "      <td>0</td>\n",
              "      <td>7.486224</td>\n",
              "      <td>2</td>\n",
              "      <td>2</td>\n",
              "      <td>2</td>\n",
              "      <td>0.2</td>\n",
              "      <td>0.899549</td>\n",
              "    </tr>\n",
              "    <tr>\n",
              "      <th>17</th>\n",
              "      <td>6.974148</td>\n",
              "      <td>0</td>\n",
              "      <td>0</td>\n",
              "      <td>0</td>\n",
              "      <td>0</td>\n",
              "      <td>4.952457</td>\n",
              "      <td>24.000000</td>\n",
              "      <td>24.000000</td>\n",
              "      <td>1</td>\n",
              "      <td>1</td>\n",
              "      <td>...</td>\n",
              "      <td>2</td>\n",
              "      <td>2</td>\n",
              "      <td>1.000000</td>\n",
              "      <td>2</td>\n",
              "      <td>10.031078</td>\n",
              "      <td>1</td>\n",
              "      <td>2</td>\n",
              "      <td>2</td>\n",
              "      <td>0.2</td>\n",
              "      <td>0.800000</td>\n",
              "    </tr>\n",
              "    <tr>\n",
              "      <th>18</th>\n",
              "      <td>10.000000</td>\n",
              "      <td>1</td>\n",
              "      <td>1</td>\n",
              "      <td>1</td>\n",
              "      <td>0</td>\n",
              "      <td>4.751452</td>\n",
              "      <td>40.000000</td>\n",
              "      <td>57.000000</td>\n",
              "      <td>1</td>\n",
              "      <td>0</td>\n",
              "      <td>...</td>\n",
              "      <td>1</td>\n",
              "      <td>1</td>\n",
              "      <td>3.000000</td>\n",
              "      <td>1</td>\n",
              "      <td>9.382407</td>\n",
              "      <td>0</td>\n",
              "      <td>0</td>\n",
              "      <td>7</td>\n",
              "      <td>0.2</td>\n",
              "      <td>0.400000</td>\n",
              "    </tr>\n",
              "    <tr>\n",
              "      <th>19</th>\n",
              "      <td>6.000000</td>\n",
              "      <td>0</td>\n",
              "      <td>1</td>\n",
              "      <td>1</td>\n",
              "      <td>1</td>\n",
              "      <td>4.876896</td>\n",
              "      <td>36.000000</td>\n",
              "      <td>48.000000</td>\n",
              "      <td>1</td>\n",
              "      <td>1</td>\n",
              "      <td>...</td>\n",
              "      <td>1</td>\n",
              "      <td>0</td>\n",
              "      <td>1.000000</td>\n",
              "      <td>1</td>\n",
              "      <td>7.370477</td>\n",
              "      <td>2</td>\n",
              "      <td>2</td>\n",
              "      <td>4</td>\n",
              "      <td>0.2</td>\n",
              "      <td>0.200000</td>\n",
              "    </tr>\n",
              "  </tbody>\n",
              "</table>\n",
              "<p>20 rows × 30 columns</p>\n",
              "</div>\n",
              "    <div class=\"colab-df-buttons\">\n",
              "\n",
              "  <div class=\"colab-df-container\">\n",
              "    <button class=\"colab-df-convert\" onclick=\"convertToInteractive('df-889ac4c2-e4f2-45b8-80b6-aaa2578825cb')\"\n",
              "            title=\"Convert this dataframe to an interactive table.\"\n",
              "            style=\"display:none;\">\n",
              "\n",
              "  <svg xmlns=\"http://www.w3.org/2000/svg\" height=\"24px\" viewBox=\"0 -960 960 960\">\n",
              "    <path d=\"M120-120v-720h720v720H120Zm60-500h600v-160H180v160Zm220 220h160v-160H400v160Zm0 220h160v-160H400v160ZM180-400h160v-160H180v160Zm440 0h160v-160H620v160ZM180-180h160v-160H180v160Zm440 0h160v-160H620v160Z\"/>\n",
              "  </svg>\n",
              "    </button>\n",
              "\n",
              "  <style>\n",
              "    .colab-df-container {\n",
              "      display:flex;\n",
              "      gap: 12px;\n",
              "    }\n",
              "\n",
              "    .colab-df-convert {\n",
              "      background-color: #E8F0FE;\n",
              "      border: none;\n",
              "      border-radius: 50%;\n",
              "      cursor: pointer;\n",
              "      display: none;\n",
              "      fill: #1967D2;\n",
              "      height: 32px;\n",
              "      padding: 0 0 0 0;\n",
              "      width: 32px;\n",
              "    }\n",
              "\n",
              "    .colab-df-convert:hover {\n",
              "      background-color: #E2EBFA;\n",
              "      box-shadow: 0px 1px 2px rgba(60, 64, 67, 0.3), 0px 1px 3px 1px rgba(60, 64, 67, 0.15);\n",
              "      fill: #174EA6;\n",
              "    }\n",
              "\n",
              "    .colab-df-buttons div {\n",
              "      margin-bottom: 4px;\n",
              "    }\n",
              "\n",
              "    [theme=dark] .colab-df-convert {\n",
              "      background-color: #3B4455;\n",
              "      fill: #D2E3FC;\n",
              "    }\n",
              "\n",
              "    [theme=dark] .colab-df-convert:hover {\n",
              "      background-color: #434B5C;\n",
              "      box-shadow: 0px 1px 3px 1px rgba(0, 0, 0, 0.15);\n",
              "      filter: drop-shadow(0px 1px 2px rgba(0, 0, 0, 0.3));\n",
              "      fill: #FFFFFF;\n",
              "    }\n",
              "  </style>\n",
              "\n",
              "    <script>\n",
              "      const buttonEl =\n",
              "        document.querySelector('#df-889ac4c2-e4f2-45b8-80b6-aaa2578825cb button.colab-df-convert');\n",
              "      buttonEl.style.display =\n",
              "        google.colab.kernel.accessAllowed ? 'block' : 'none';\n",
              "\n",
              "      async function convertToInteractive(key) {\n",
              "        const element = document.querySelector('#df-889ac4c2-e4f2-45b8-80b6-aaa2578825cb');\n",
              "        const dataTable =\n",
              "          await google.colab.kernel.invokeFunction('convertToInteractive',\n",
              "                                                    [key], {});\n",
              "        if (!dataTable) return;\n",
              "\n",
              "        const docLinkHtml = 'Like what you see? Visit the ' +\n",
              "          '<a target=\"_blank\" href=https://colab.research.google.com/notebooks/data_table.ipynb>data table notebook</a>'\n",
              "          + ' to learn more about interactive tables.';\n",
              "        element.innerHTML = '';\n",
              "        dataTable['output_type'] = 'display_data';\n",
              "        await google.colab.output.renderOutput(dataTable, element);\n",
              "        const docLink = document.createElement('div');\n",
              "        docLink.innerHTML = docLinkHtml;\n",
              "        element.appendChild(docLink);\n",
              "      }\n",
              "    </script>\n",
              "  </div>\n",
              "\n",
              "\n",
              "<div id=\"df-90d72b4d-bb0e-47a9-aee2-fb1a118a7d64\">\n",
              "  <button class=\"colab-df-quickchart\" onclick=\"quickchart('df-90d72b4d-bb0e-47a9-aee2-fb1a118a7d64')\"\n",
              "            title=\"Suggest charts\"\n",
              "            style=\"display:none;\">\n",
              "\n",
              "<svg xmlns=\"http://www.w3.org/2000/svg\" height=\"24px\"viewBox=\"0 0 24 24\"\n",
              "     width=\"24px\">\n",
              "    <g>\n",
              "        <path d=\"M19 3H5c-1.1 0-2 .9-2 2v14c0 1.1.9 2 2 2h14c1.1 0 2-.9 2-2V5c0-1.1-.9-2-2-2zM9 17H7v-7h2v7zm4 0h-2V7h2v10zm4 0h-2v-4h2v4z\"/>\n",
              "    </g>\n",
              "</svg>\n",
              "  </button>\n",
              "\n",
              "<style>\n",
              "  .colab-df-quickchart {\n",
              "      --bg-color: #E8F0FE;\n",
              "      --fill-color: #1967D2;\n",
              "      --hover-bg-color: #E2EBFA;\n",
              "      --hover-fill-color: #174EA6;\n",
              "      --disabled-fill-color: #AAA;\n",
              "      --disabled-bg-color: #DDD;\n",
              "  }\n",
              "\n",
              "  [theme=dark] .colab-df-quickchart {\n",
              "      --bg-color: #3B4455;\n",
              "      --fill-color: #D2E3FC;\n",
              "      --hover-bg-color: #434B5C;\n",
              "      --hover-fill-color: #FFFFFF;\n",
              "      --disabled-bg-color: #3B4455;\n",
              "      --disabled-fill-color: #666;\n",
              "  }\n",
              "\n",
              "  .colab-df-quickchart {\n",
              "    background-color: var(--bg-color);\n",
              "    border: none;\n",
              "    border-radius: 50%;\n",
              "    cursor: pointer;\n",
              "    display: none;\n",
              "    fill: var(--fill-color);\n",
              "    height: 32px;\n",
              "    padding: 0;\n",
              "    width: 32px;\n",
              "  }\n",
              "\n",
              "  .colab-df-quickchart:hover {\n",
              "    background-color: var(--hover-bg-color);\n",
              "    box-shadow: 0 1px 2px rgba(60, 64, 67, 0.3), 0 1px 3px 1px rgba(60, 64, 67, 0.15);\n",
              "    fill: var(--button-hover-fill-color);\n",
              "  }\n",
              "\n",
              "  .colab-df-quickchart-complete:disabled,\n",
              "  .colab-df-quickchart-complete:disabled:hover {\n",
              "    background-color: var(--disabled-bg-color);\n",
              "    fill: var(--disabled-fill-color);\n",
              "    box-shadow: none;\n",
              "  }\n",
              "\n",
              "  .colab-df-spinner {\n",
              "    border: 2px solid var(--fill-color);\n",
              "    border-color: transparent;\n",
              "    border-bottom-color: var(--fill-color);\n",
              "    animation:\n",
              "      spin 1s steps(1) infinite;\n",
              "  }\n",
              "\n",
              "  @keyframes spin {\n",
              "    0% {\n",
              "      border-color: transparent;\n",
              "      border-bottom-color: var(--fill-color);\n",
              "      border-left-color: var(--fill-color);\n",
              "    }\n",
              "    20% {\n",
              "      border-color: transparent;\n",
              "      border-left-color: var(--fill-color);\n",
              "      border-top-color: var(--fill-color);\n",
              "    }\n",
              "    30% {\n",
              "      border-color: transparent;\n",
              "      border-left-color: var(--fill-color);\n",
              "      border-top-color: var(--fill-color);\n",
              "      border-right-color: var(--fill-color);\n",
              "    }\n",
              "    40% {\n",
              "      border-color: transparent;\n",
              "      border-right-color: var(--fill-color);\n",
              "      border-top-color: var(--fill-color);\n",
              "    }\n",
              "    60% {\n",
              "      border-color: transparent;\n",
              "      border-right-color: var(--fill-color);\n",
              "    }\n",
              "    80% {\n",
              "      border-color: transparent;\n",
              "      border-right-color: var(--fill-color);\n",
              "      border-bottom-color: var(--fill-color);\n",
              "    }\n",
              "    90% {\n",
              "      border-color: transparent;\n",
              "      border-bottom-color: var(--fill-color);\n",
              "    }\n",
              "  }\n",
              "</style>\n",
              "\n",
              "  <script>\n",
              "    async function quickchart(key) {\n",
              "      const quickchartButtonEl =\n",
              "        document.querySelector('#' + key + ' button');\n",
              "      quickchartButtonEl.disabled = true;  // To prevent multiple clicks.\n",
              "      quickchartButtonEl.classList.add('colab-df-spinner');\n",
              "      try {\n",
              "        const charts = await google.colab.kernel.invokeFunction(\n",
              "            'suggestCharts', [key], {});\n",
              "      } catch (error) {\n",
              "        console.error('Error during call to suggestCharts:', error);\n",
              "      }\n",
              "      quickchartButtonEl.classList.remove('colab-df-spinner');\n",
              "      quickchartButtonEl.classList.add('colab-df-quickchart-complete');\n",
              "    }\n",
              "    (() => {\n",
              "      let quickchartButtonEl =\n",
              "        document.querySelector('#df-90d72b4d-bb0e-47a9-aee2-fb1a118a7d64 button');\n",
              "      quickchartButtonEl.style.display =\n",
              "        google.colab.kernel.accessAllowed ? 'block' : 'none';\n",
              "    })();\n",
              "  </script>\n",
              "</div>\n",
              "\n",
              "    </div>\n",
              "  </div>\n"
            ],
            "application/vnd.google.colaboratory.intrinsic+json": {
              "type": "dataframe",
              "variable_name": "df_train"
            }
          },
          "metadata": {},
          "execution_count": 176
        }
      ],
      "source": [
        "df_train.head(20)"
      ]
    },
    {
      "cell_type": "code",
      "execution_count": null,
      "metadata": {
        "colab": {
          "base_uri": "https://localhost:8080/"
        },
        "id": "83wNuLDtnai1",
        "outputId": "51b49c11-ea13-4229-d663-5c2b128c1d95"
      },
      "outputs": [
        {
          "output_type": "stream",
          "name": "stdout",
          "text": [
            "<class 'pandas.core.frame.DataFrame'>\n",
            "RangeIndex: 22083 entries, 0 to 22082\n",
            "Data columns (total 30 columns):\n",
            " #   Column                                            Non-Null Count  Dtype  \n",
            "---  ------                                            --------------  -----  \n",
            " 0   Patient Age                                       22083 non-null  float64\n",
            " 1   Genes in mother's side                            22083 non-null  int64  \n",
            " 2   Inherited from father                             22083 non-null  int64  \n",
            " 3   Maternal gene                                     22083 non-null  int64  \n",
            " 4   Paternal gene                                     22083 non-null  int64  \n",
            " 5   Blood cell count (mcL)                            22083 non-null  float64\n",
            " 6   Mother's age                                      22083 non-null  float64\n",
            " 7   Father's age                                      22083 non-null  float64\n",
            " 8   Status                                            22083 non-null  int64  \n",
            " 9   Respiratory Rate (breaths/min)                    22083 non-null  int64  \n",
            " 10  Heart Rate (rates/min                             22083 non-null  int64  \n",
            " 11  Parental consent                                  22083 non-null  int64  \n",
            " 12  Follow-up                                         22083 non-null  int64  \n",
            " 13  Gender                                            22083 non-null  int64  \n",
            " 14  Birth asphyxia                                    22083 non-null  int64  \n",
            " 15  Autopsy shows birth defect (if applicable)        22083 non-null  int64  \n",
            " 16  Folic acid details (peri-conceptional)            22083 non-null  int64  \n",
            " 17  H/O serious maternal illness                      22083 non-null  int64  \n",
            " 18  H/O radiation exposure (x-ray)                    22083 non-null  int64  \n",
            " 19  H/O substance abuse                               22083 non-null  int64  \n",
            " 20  Assisted conception IVF/ART                       22083 non-null  int64  \n",
            " 21  History of anomalies in previous pregnancies      22083 non-null  int64  \n",
            " 22  No. of previous abortion                          22083 non-null  float64\n",
            " 23  Birth defects                                     22083 non-null  int64  \n",
            " 24  White Blood cell count (thousand per microliter)  22083 non-null  float64\n",
            " 25  Blood test result                                 22083 non-null  int64  \n",
            " 26  Genetic Disorder                                  22083 non-null  int64  \n",
            " 27  Disorder Subclass                                 22083 non-null  int64  \n",
            " 28  total test                                        22083 non-null  float64\n",
            " 29  total symptom                                     22083 non-null  float64\n",
            "dtypes: float64(8), int64(22)\n",
            "memory usage: 5.1 MB\n"
          ]
        }
      ],
      "source": [
        "df_train.info()"
      ]
    },
    {
      "cell_type": "code",
      "execution_count": null,
      "metadata": {
        "colab": {
          "base_uri": "https://localhost:8080/",
          "height": 513
        },
        "id": "5xtzCMHtndEm",
        "outputId": "48562034-09a8-4ade-d5b5-7f652393c31d"
      },
      "outputs": [
        {
          "output_type": "execute_result",
          "data": {
            "text/plain": [
              "       Patient Age  Genes in mother's side  Inherited from father  \\\n",
              "0              2.0                       1                      0   \n",
              "1              4.0                       1                      1   \n",
              "2              6.0                       1                      0   \n",
              "3             12.0                       1                      0   \n",
              "4             11.0                       1                      0   \n",
              "...            ...                     ...                    ...   \n",
              "22078          4.0                       1                      1   \n",
              "22079          8.0                       0                      1   \n",
              "22080          8.0                       1                      0   \n",
              "22081          7.0                       1                      0   \n",
              "22082         11.0                       1                      0   \n",
              "\n",
              "       Maternal gene  Paternal gene  Blood cell count (mcL)  Mother's age  \\\n",
              "0                  1              0                4.760603     34.526454   \n",
              "1                  0              0                4.910669     34.526454   \n",
              "2                  0              0                4.893297     41.000000   \n",
              "3                  1              0                4.705280     21.000000   \n",
              "4                  2              1                4.720703     32.000000   \n",
              "...              ...            ...                     ...           ...   \n",
              "22078              1              0                5.258298     35.000000   \n",
              "22079              0              1                4.974220     34.526454   \n",
              "22080              1              0                5.186470     35.000000   \n",
              "22081              1              1                4.858543     19.000000   \n",
              "22082              0              0                4.738067     32.000000   \n",
              "\n",
              "       Father's age  Status  Respiratory Rate (breaths/min)  ...  \\\n",
              "0         41.972852       0                               0  ...   \n",
              "1         23.000000       1                               1  ...   \n",
              "2         22.000000       0                               0  ...   \n",
              "3         41.972852       1                               1  ...   \n",
              "4         41.972852       0                               1  ...   \n",
              "...             ...     ...                             ...  ...   \n",
              "22078     64.000000       1                               0  ...   \n",
              "22079     56.000000       0                               0  ...   \n",
              "22080     51.000000       1                               1  ...   \n",
              "22081     41.972852       0                               1  ...   \n",
              "22082     62.000000       1                               0  ...   \n",
              "\n",
              "       Assisted conception IVF/ART  \\\n",
              "0                                0   \n",
              "1                                0   \n",
              "2                                1   \n",
              "3                                2   \n",
              "4                                1   \n",
              "...                            ...   \n",
              "22078                            1   \n",
              "22079                            1   \n",
              "22080                            0   \n",
              "22081                            1   \n",
              "22082                            1   \n",
              "\n",
              "       History of anomalies in previous pregnancies  No. of previous abortion  \\\n",
              "0                                                 1                  2.003062   \n",
              "1                                                 1                  2.003062   \n",
              "2                                                 1                  4.000000   \n",
              "3                                                 1                  1.000000   \n",
              "4                                                 0                  4.000000   \n",
              "...                                             ...                       ...   \n",
              "22078                                             0                  3.000000   \n",
              "22079                                             0                  2.000000   \n",
              "22080                                             0                  2.000000   \n",
              "22081                                             0                  1.000000   \n",
              "22082                                             1                  4.000000   \n",
              "\n",
              "       Birth defects  White Blood cell count (thousand per microliter)  \\\n",
              "0                  2                                          9.857562   \n",
              "1                  0                                          5.522560   \n",
              "2                  1                                          7.486224   \n",
              "3                  1                                          7.919321   \n",
              "4                  0                                          4.098210   \n",
              "...              ...                                               ...   \n",
              "22078              0                                          6.584811   \n",
              "22079              0                                          7.041556   \n",
              "22080              1                                          7.715464   \n",
              "22081              0                                          8.437670   \n",
              "22082              1                                         11.188371   \n",
              "\n",
              "       Blood test result  Genetic Disorder  Disorder Subclass  total test  \\\n",
              "0                      4                 0                  5         0.2   \n",
              "1                      2                 3                  2         0.2   \n",
              "2                      2                 1                  3         0.2   \n",
              "3                      1                 0                  6         0.2   \n",
              "4                      4                 1                  1         0.2   \n",
              "...                  ...               ...                ...         ...   \n",
              "22078                  1                 0                  6         0.2   \n",
              "22079                  1                 1                  3         0.2   \n",
              "22080                  2                 0                  7         0.2   \n",
              "22081                  0                 3                  6         0.2   \n",
              "22082                  2                 1                  3         0.2   \n",
              "\n",
              "       total symptom  \n",
              "0           1.000000  \n",
              "1           0.710377  \n",
              "2           0.800000  \n",
              "3           0.200000  \n",
              "4           0.092383  \n",
              "...              ...  \n",
              "22078       0.200000  \n",
              "22079       0.800000  \n",
              "22080       0.292383  \n",
              "22081       0.600000  \n",
              "22082       0.800000  \n",
              "\n",
              "[22083 rows x 30 columns]"
            ],
            "text/html": [
              "\n",
              "  <div id=\"df-f523573a-3049-44d6-8b0b-93f694cfdc92\" class=\"colab-df-container\">\n",
              "    <div>\n",
              "<style scoped>\n",
              "    .dataframe tbody tr th:only-of-type {\n",
              "        vertical-align: middle;\n",
              "    }\n",
              "\n",
              "    .dataframe tbody tr th {\n",
              "        vertical-align: top;\n",
              "    }\n",
              "\n",
              "    .dataframe thead th {\n",
              "        text-align: right;\n",
              "    }\n",
              "</style>\n",
              "<table border=\"1\" class=\"dataframe\">\n",
              "  <thead>\n",
              "    <tr style=\"text-align: right;\">\n",
              "      <th></th>\n",
              "      <th>Patient Age</th>\n",
              "      <th>Genes in mother's side</th>\n",
              "      <th>Inherited from father</th>\n",
              "      <th>Maternal gene</th>\n",
              "      <th>Paternal gene</th>\n",
              "      <th>Blood cell count (mcL)</th>\n",
              "      <th>Mother's age</th>\n",
              "      <th>Father's age</th>\n",
              "      <th>Status</th>\n",
              "      <th>Respiratory Rate (breaths/min)</th>\n",
              "      <th>...</th>\n",
              "      <th>Assisted conception IVF/ART</th>\n",
              "      <th>History of anomalies in previous pregnancies</th>\n",
              "      <th>No. of previous abortion</th>\n",
              "      <th>Birth defects</th>\n",
              "      <th>White Blood cell count (thousand per microliter)</th>\n",
              "      <th>Blood test result</th>\n",
              "      <th>Genetic Disorder</th>\n",
              "      <th>Disorder Subclass</th>\n",
              "      <th>total test</th>\n",
              "      <th>total symptom</th>\n",
              "    </tr>\n",
              "  </thead>\n",
              "  <tbody>\n",
              "    <tr>\n",
              "      <th>0</th>\n",
              "      <td>2.0</td>\n",
              "      <td>1</td>\n",
              "      <td>0</td>\n",
              "      <td>1</td>\n",
              "      <td>0</td>\n",
              "      <td>4.760603</td>\n",
              "      <td>34.526454</td>\n",
              "      <td>41.972852</td>\n",
              "      <td>0</td>\n",
              "      <td>0</td>\n",
              "      <td>...</td>\n",
              "      <td>0</td>\n",
              "      <td>1</td>\n",
              "      <td>2.003062</td>\n",
              "      <td>2</td>\n",
              "      <td>9.857562</td>\n",
              "      <td>4</td>\n",
              "      <td>0</td>\n",
              "      <td>5</td>\n",
              "      <td>0.2</td>\n",
              "      <td>1.000000</td>\n",
              "    </tr>\n",
              "    <tr>\n",
              "      <th>1</th>\n",
              "      <td>4.0</td>\n",
              "      <td>1</td>\n",
              "      <td>1</td>\n",
              "      <td>0</td>\n",
              "      <td>0</td>\n",
              "      <td>4.910669</td>\n",
              "      <td>34.526454</td>\n",
              "      <td>23.000000</td>\n",
              "      <td>1</td>\n",
              "      <td>1</td>\n",
              "      <td>...</td>\n",
              "      <td>0</td>\n",
              "      <td>1</td>\n",
              "      <td>2.003062</td>\n",
              "      <td>0</td>\n",
              "      <td>5.522560</td>\n",
              "      <td>2</td>\n",
              "      <td>3</td>\n",
              "      <td>2</td>\n",
              "      <td>0.2</td>\n",
              "      <td>0.710377</td>\n",
              "    </tr>\n",
              "    <tr>\n",
              "      <th>2</th>\n",
              "      <td>6.0</td>\n",
              "      <td>1</td>\n",
              "      <td>0</td>\n",
              "      <td>0</td>\n",
              "      <td>0</td>\n",
              "      <td>4.893297</td>\n",
              "      <td>41.000000</td>\n",
              "      <td>22.000000</td>\n",
              "      <td>0</td>\n",
              "      <td>0</td>\n",
              "      <td>...</td>\n",
              "      <td>1</td>\n",
              "      <td>1</td>\n",
              "      <td>4.000000</td>\n",
              "      <td>1</td>\n",
              "      <td>7.486224</td>\n",
              "      <td>2</td>\n",
              "      <td>1</td>\n",
              "      <td>3</td>\n",
              "      <td>0.2</td>\n",
              "      <td>0.800000</td>\n",
              "    </tr>\n",
              "    <tr>\n",
              "      <th>3</th>\n",
              "      <td>12.0</td>\n",
              "      <td>1</td>\n",
              "      <td>0</td>\n",
              "      <td>1</td>\n",
              "      <td>0</td>\n",
              "      <td>4.705280</td>\n",
              "      <td>21.000000</td>\n",
              "      <td>41.972852</td>\n",
              "      <td>1</td>\n",
              "      <td>1</td>\n",
              "      <td>...</td>\n",
              "      <td>2</td>\n",
              "      <td>1</td>\n",
              "      <td>1.000000</td>\n",
              "      <td>1</td>\n",
              "      <td>7.919321</td>\n",
              "      <td>1</td>\n",
              "      <td>0</td>\n",
              "      <td>6</td>\n",
              "      <td>0.2</td>\n",
              "      <td>0.200000</td>\n",
              "    </tr>\n",
              "    <tr>\n",
              "      <th>4</th>\n",
              "      <td>11.0</td>\n",
              "      <td>1</td>\n",
              "      <td>0</td>\n",
              "      <td>2</td>\n",
              "      <td>1</td>\n",
              "      <td>4.720703</td>\n",
              "      <td>32.000000</td>\n",
              "      <td>41.972852</td>\n",
              "      <td>0</td>\n",
              "      <td>1</td>\n",
              "      <td>...</td>\n",
              "      <td>1</td>\n",
              "      <td>0</td>\n",
              "      <td>4.000000</td>\n",
              "      <td>0</td>\n",
              "      <td>4.098210</td>\n",
              "      <td>4</td>\n",
              "      <td>1</td>\n",
              "      <td>1</td>\n",
              "      <td>0.2</td>\n",
              "      <td>0.092383</td>\n",
              "    </tr>\n",
              "    <tr>\n",
              "      <th>...</th>\n",
              "      <td>...</td>\n",
              "      <td>...</td>\n",
              "      <td>...</td>\n",
              "      <td>...</td>\n",
              "      <td>...</td>\n",
              "      <td>...</td>\n",
              "      <td>...</td>\n",
              "      <td>...</td>\n",
              "      <td>...</td>\n",
              "      <td>...</td>\n",
              "      <td>...</td>\n",
              "      <td>...</td>\n",
              "      <td>...</td>\n",
              "      <td>...</td>\n",
              "      <td>...</td>\n",
              "      <td>...</td>\n",
              "      <td>...</td>\n",
              "      <td>...</td>\n",
              "      <td>...</td>\n",
              "      <td>...</td>\n",
              "      <td>...</td>\n",
              "    </tr>\n",
              "    <tr>\n",
              "      <th>22078</th>\n",
              "      <td>4.0</td>\n",
              "      <td>1</td>\n",
              "      <td>1</td>\n",
              "      <td>1</td>\n",
              "      <td>0</td>\n",
              "      <td>5.258298</td>\n",
              "      <td>35.000000</td>\n",
              "      <td>64.000000</td>\n",
              "      <td>1</td>\n",
              "      <td>0</td>\n",
              "      <td>...</td>\n",
              "      <td>1</td>\n",
              "      <td>0</td>\n",
              "      <td>3.000000</td>\n",
              "      <td>0</td>\n",
              "      <td>6.584811</td>\n",
              "      <td>1</td>\n",
              "      <td>0</td>\n",
              "      <td>6</td>\n",
              "      <td>0.2</td>\n",
              "      <td>0.200000</td>\n",
              "    </tr>\n",
              "    <tr>\n",
              "      <th>22079</th>\n",
              "      <td>8.0</td>\n",
              "      <td>0</td>\n",
              "      <td>1</td>\n",
              "      <td>0</td>\n",
              "      <td>1</td>\n",
              "      <td>4.974220</td>\n",
              "      <td>34.526454</td>\n",
              "      <td>56.000000</td>\n",
              "      <td>0</td>\n",
              "      <td>0</td>\n",
              "      <td>...</td>\n",
              "      <td>1</td>\n",
              "      <td>0</td>\n",
              "      <td>2.000000</td>\n",
              "      <td>0</td>\n",
              "      <td>7.041556</td>\n",
              "      <td>1</td>\n",
              "      <td>1</td>\n",
              "      <td>3</td>\n",
              "      <td>0.2</td>\n",
              "      <td>0.800000</td>\n",
              "    </tr>\n",
              "    <tr>\n",
              "      <th>22080</th>\n",
              "      <td>8.0</td>\n",
              "      <td>1</td>\n",
              "      <td>0</td>\n",
              "      <td>1</td>\n",
              "      <td>0</td>\n",
              "      <td>5.186470</td>\n",
              "      <td>35.000000</td>\n",
              "      <td>51.000000</td>\n",
              "      <td>1</td>\n",
              "      <td>1</td>\n",
              "      <td>...</td>\n",
              "      <td>0</td>\n",
              "      <td>0</td>\n",
              "      <td>2.000000</td>\n",
              "      <td>1</td>\n",
              "      <td>7.715464</td>\n",
              "      <td>2</td>\n",
              "      <td>0</td>\n",
              "      <td>7</td>\n",
              "      <td>0.2</td>\n",
              "      <td>0.292383</td>\n",
              "    </tr>\n",
              "    <tr>\n",
              "      <th>22081</th>\n",
              "      <td>7.0</td>\n",
              "      <td>1</td>\n",
              "      <td>0</td>\n",
              "      <td>1</td>\n",
              "      <td>1</td>\n",
              "      <td>4.858543</td>\n",
              "      <td>19.000000</td>\n",
              "      <td>41.972852</td>\n",
              "      <td>0</td>\n",
              "      <td>1</td>\n",
              "      <td>...</td>\n",
              "      <td>1</td>\n",
              "      <td>0</td>\n",
              "      <td>1.000000</td>\n",
              "      <td>0</td>\n",
              "      <td>8.437670</td>\n",
              "      <td>0</td>\n",
              "      <td>3</td>\n",
              "      <td>6</td>\n",
              "      <td>0.2</td>\n",
              "      <td>0.600000</td>\n",
              "    </tr>\n",
              "    <tr>\n",
              "      <th>22082</th>\n",
              "      <td>11.0</td>\n",
              "      <td>1</td>\n",
              "      <td>0</td>\n",
              "      <td>0</td>\n",
              "      <td>0</td>\n",
              "      <td>4.738067</td>\n",
              "      <td>32.000000</td>\n",
              "      <td>62.000000</td>\n",
              "      <td>1</td>\n",
              "      <td>0</td>\n",
              "      <td>...</td>\n",
              "      <td>1</td>\n",
              "      <td>1</td>\n",
              "      <td>4.000000</td>\n",
              "      <td>1</td>\n",
              "      <td>11.188371</td>\n",
              "      <td>2</td>\n",
              "      <td>1</td>\n",
              "      <td>3</td>\n",
              "      <td>0.2</td>\n",
              "      <td>0.800000</td>\n",
              "    </tr>\n",
              "  </tbody>\n",
              "</table>\n",
              "<p>22083 rows × 30 columns</p>\n",
              "</div>\n",
              "    <div class=\"colab-df-buttons\">\n",
              "\n",
              "  <div class=\"colab-df-container\">\n",
              "    <button class=\"colab-df-convert\" onclick=\"convertToInteractive('df-f523573a-3049-44d6-8b0b-93f694cfdc92')\"\n",
              "            title=\"Convert this dataframe to an interactive table.\"\n",
              "            style=\"display:none;\">\n",
              "\n",
              "  <svg xmlns=\"http://www.w3.org/2000/svg\" height=\"24px\" viewBox=\"0 -960 960 960\">\n",
              "    <path d=\"M120-120v-720h720v720H120Zm60-500h600v-160H180v160Zm220 220h160v-160H400v160Zm0 220h160v-160H400v160ZM180-400h160v-160H180v160Zm440 0h160v-160H620v160ZM180-180h160v-160H180v160Zm440 0h160v-160H620v160Z\"/>\n",
              "  </svg>\n",
              "    </button>\n",
              "\n",
              "  <style>\n",
              "    .colab-df-container {\n",
              "      display:flex;\n",
              "      gap: 12px;\n",
              "    }\n",
              "\n",
              "    .colab-df-convert {\n",
              "      background-color: #E8F0FE;\n",
              "      border: none;\n",
              "      border-radius: 50%;\n",
              "      cursor: pointer;\n",
              "      display: none;\n",
              "      fill: #1967D2;\n",
              "      height: 32px;\n",
              "      padding: 0 0 0 0;\n",
              "      width: 32px;\n",
              "    }\n",
              "\n",
              "    .colab-df-convert:hover {\n",
              "      background-color: #E2EBFA;\n",
              "      box-shadow: 0px 1px 2px rgba(60, 64, 67, 0.3), 0px 1px 3px 1px rgba(60, 64, 67, 0.15);\n",
              "      fill: #174EA6;\n",
              "    }\n",
              "\n",
              "    .colab-df-buttons div {\n",
              "      margin-bottom: 4px;\n",
              "    }\n",
              "\n",
              "    [theme=dark] .colab-df-convert {\n",
              "      background-color: #3B4455;\n",
              "      fill: #D2E3FC;\n",
              "    }\n",
              "\n",
              "    [theme=dark] .colab-df-convert:hover {\n",
              "      background-color: #434B5C;\n",
              "      box-shadow: 0px 1px 3px 1px rgba(0, 0, 0, 0.15);\n",
              "      filter: drop-shadow(0px 1px 2px rgba(0, 0, 0, 0.3));\n",
              "      fill: #FFFFFF;\n",
              "    }\n",
              "  </style>\n",
              "\n",
              "    <script>\n",
              "      const buttonEl =\n",
              "        document.querySelector('#df-f523573a-3049-44d6-8b0b-93f694cfdc92 button.colab-df-convert');\n",
              "      buttonEl.style.display =\n",
              "        google.colab.kernel.accessAllowed ? 'block' : 'none';\n",
              "\n",
              "      async function convertToInteractive(key) {\n",
              "        const element = document.querySelector('#df-f523573a-3049-44d6-8b0b-93f694cfdc92');\n",
              "        const dataTable =\n",
              "          await google.colab.kernel.invokeFunction('convertToInteractive',\n",
              "                                                    [key], {});\n",
              "        if (!dataTable) return;\n",
              "\n",
              "        const docLinkHtml = 'Like what you see? Visit the ' +\n",
              "          '<a target=\"_blank\" href=https://colab.research.google.com/notebooks/data_table.ipynb>data table notebook</a>'\n",
              "          + ' to learn more about interactive tables.';\n",
              "        element.innerHTML = '';\n",
              "        dataTable['output_type'] = 'display_data';\n",
              "        await google.colab.output.renderOutput(dataTable, element);\n",
              "        const docLink = document.createElement('div');\n",
              "        docLink.innerHTML = docLinkHtml;\n",
              "        element.appendChild(docLink);\n",
              "      }\n",
              "    </script>\n",
              "  </div>\n",
              "\n",
              "\n",
              "<div id=\"df-615f4dab-b890-4073-a9db-679d6d5c2351\">\n",
              "  <button class=\"colab-df-quickchart\" onclick=\"quickchart('df-615f4dab-b890-4073-a9db-679d6d5c2351')\"\n",
              "            title=\"Suggest charts\"\n",
              "            style=\"display:none;\">\n",
              "\n",
              "<svg xmlns=\"http://www.w3.org/2000/svg\" height=\"24px\"viewBox=\"0 0 24 24\"\n",
              "     width=\"24px\">\n",
              "    <g>\n",
              "        <path d=\"M19 3H5c-1.1 0-2 .9-2 2v14c0 1.1.9 2 2 2h14c1.1 0 2-.9 2-2V5c0-1.1-.9-2-2-2zM9 17H7v-7h2v7zm4 0h-2V7h2v10zm4 0h-2v-4h2v4z\"/>\n",
              "    </g>\n",
              "</svg>\n",
              "  </button>\n",
              "\n",
              "<style>\n",
              "  .colab-df-quickchart {\n",
              "      --bg-color: #E8F0FE;\n",
              "      --fill-color: #1967D2;\n",
              "      --hover-bg-color: #E2EBFA;\n",
              "      --hover-fill-color: #174EA6;\n",
              "      --disabled-fill-color: #AAA;\n",
              "      --disabled-bg-color: #DDD;\n",
              "  }\n",
              "\n",
              "  [theme=dark] .colab-df-quickchart {\n",
              "      --bg-color: #3B4455;\n",
              "      --fill-color: #D2E3FC;\n",
              "      --hover-bg-color: #434B5C;\n",
              "      --hover-fill-color: #FFFFFF;\n",
              "      --disabled-bg-color: #3B4455;\n",
              "      --disabled-fill-color: #666;\n",
              "  }\n",
              "\n",
              "  .colab-df-quickchart {\n",
              "    background-color: var(--bg-color);\n",
              "    border: none;\n",
              "    border-radius: 50%;\n",
              "    cursor: pointer;\n",
              "    display: none;\n",
              "    fill: var(--fill-color);\n",
              "    height: 32px;\n",
              "    padding: 0;\n",
              "    width: 32px;\n",
              "  }\n",
              "\n",
              "  .colab-df-quickchart:hover {\n",
              "    background-color: var(--hover-bg-color);\n",
              "    box-shadow: 0 1px 2px rgba(60, 64, 67, 0.3), 0 1px 3px 1px rgba(60, 64, 67, 0.15);\n",
              "    fill: var(--button-hover-fill-color);\n",
              "  }\n",
              "\n",
              "  .colab-df-quickchart-complete:disabled,\n",
              "  .colab-df-quickchart-complete:disabled:hover {\n",
              "    background-color: var(--disabled-bg-color);\n",
              "    fill: var(--disabled-fill-color);\n",
              "    box-shadow: none;\n",
              "  }\n",
              "\n",
              "  .colab-df-spinner {\n",
              "    border: 2px solid var(--fill-color);\n",
              "    border-color: transparent;\n",
              "    border-bottom-color: var(--fill-color);\n",
              "    animation:\n",
              "      spin 1s steps(1) infinite;\n",
              "  }\n",
              "\n",
              "  @keyframes spin {\n",
              "    0% {\n",
              "      border-color: transparent;\n",
              "      border-bottom-color: var(--fill-color);\n",
              "      border-left-color: var(--fill-color);\n",
              "    }\n",
              "    20% {\n",
              "      border-color: transparent;\n",
              "      border-left-color: var(--fill-color);\n",
              "      border-top-color: var(--fill-color);\n",
              "    }\n",
              "    30% {\n",
              "      border-color: transparent;\n",
              "      border-left-color: var(--fill-color);\n",
              "      border-top-color: var(--fill-color);\n",
              "      border-right-color: var(--fill-color);\n",
              "    }\n",
              "    40% {\n",
              "      border-color: transparent;\n",
              "      border-right-color: var(--fill-color);\n",
              "      border-top-color: var(--fill-color);\n",
              "    }\n",
              "    60% {\n",
              "      border-color: transparent;\n",
              "      border-right-color: var(--fill-color);\n",
              "    }\n",
              "    80% {\n",
              "      border-color: transparent;\n",
              "      border-right-color: var(--fill-color);\n",
              "      border-bottom-color: var(--fill-color);\n",
              "    }\n",
              "    90% {\n",
              "      border-color: transparent;\n",
              "      border-bottom-color: var(--fill-color);\n",
              "    }\n",
              "  }\n",
              "</style>\n",
              "\n",
              "  <script>\n",
              "    async function quickchart(key) {\n",
              "      const quickchartButtonEl =\n",
              "        document.querySelector('#' + key + ' button');\n",
              "      quickchartButtonEl.disabled = true;  // To prevent multiple clicks.\n",
              "      quickchartButtonEl.classList.add('colab-df-spinner');\n",
              "      try {\n",
              "        const charts = await google.colab.kernel.invokeFunction(\n",
              "            'suggestCharts', [key], {});\n",
              "      } catch (error) {\n",
              "        console.error('Error during call to suggestCharts:', error);\n",
              "      }\n",
              "      quickchartButtonEl.classList.remove('colab-df-spinner');\n",
              "      quickchartButtonEl.classList.add('colab-df-quickchart-complete');\n",
              "    }\n",
              "    (() => {\n",
              "      let quickchartButtonEl =\n",
              "        document.querySelector('#df-615f4dab-b890-4073-a9db-679d6d5c2351 button');\n",
              "      quickchartButtonEl.style.display =\n",
              "        google.colab.kernel.accessAllowed ? 'block' : 'none';\n",
              "    })();\n",
              "  </script>\n",
              "</div>\n",
              "\n",
              "    </div>\n",
              "  </div>\n"
            ],
            "application/vnd.google.colaboratory.intrinsic+json": {
              "type": "dataframe"
            }
          },
          "metadata": {},
          "execution_count": 178
        }
      ],
      "source": [
        "df_train.drop_duplicates()"
      ]
    },
    {
      "cell_type": "code",
      "execution_count": null,
      "metadata": {
        "colab": {
          "base_uri": "https://localhost:8080/"
        },
        "id": "HF8QGT2_nk-u",
        "outputId": "94088d04-b303-4a59-d942-7392e3d11282"
      },
      "outputs": [
        {
          "output_type": "execute_result",
          "data": {
            "text/plain": [
              "Status\n",
              "0    11083\n",
              "1    11000\n",
              "Name: count, dtype: int64"
            ]
          },
          "metadata": {},
          "execution_count": 179
        }
      ],
      "source": [
        "df_train.Status.value_counts()"
      ]
    },
    {
      "cell_type": "code",
      "execution_count": null,
      "metadata": {
        "colab": {
          "base_uri": "https://localhost:8080/"
        },
        "id": "4tRTW03qnm8m",
        "outputId": "3d432250-e5d3-4c4e-b0c5-724c9458dc3f"
      },
      "outputs": [
        {
          "output_type": "execute_result",
          "data": {
            "text/plain": [
              "(22083, 30)"
            ]
          },
          "metadata": {},
          "execution_count": 180
        }
      ],
      "source": [
        "df_train.shape"
      ]
    },
    {
      "cell_type": "code",
      "execution_count": null,
      "metadata": {
        "colab": {
          "base_uri": "https://localhost:8080/"
        },
        "id": "9T21p77Hnpdu",
        "outputId": "0b782780-bafa-4724-d030-7fc0c1482267"
      },
      "outputs": [
        {
          "output_type": "stream",
          "name": "stdout",
          "text": [
            "(21940, 30)\n"
          ]
        }
      ],
      "source": [
        "import pandas as pd\n",
        "\n",
        "# List of numerical columns to check for outliers\n",
        "numerical_columns = [\n",
        "    'Patient Age', 'Blood cell count (mcL)', 'Mother\\'s age', 'Father\\'s age',\n",
        "    'Respiratory Rate (breaths/min)', 'Heart Rate (rates/min', 'No. of previous abortion',\n",
        "    'White Blood cell count (thousand per microliter)', 'Blood test result', 'total test', 'total symptom'\n",
        "]\n",
        "\n",
        "# Function to remove outliers using the IQR method\n",
        "def remove_outliers_iqr(df, columns):\n",
        "    for column in columns:\n",
        "        Q1 = df[column].quantile(0.25)\n",
        "        Q3 = df[column].quantile(0.75)\n",
        "        IQR = Q3 - Q1\n",
        "        lower_bound = Q1 - 1.5 * IQR\n",
        "        upper_bound = Q3 + 1.5 * IQR\n",
        "        df = df[(df[column] >= lower_bound) & (df[column] <= upper_bound)]\n",
        "    return df\n",
        "\n",
        "# Assuming your DataFrame is named df_train\n",
        "df_train = remove_outliers_iqr(df_train, numerical_columns)\n",
        "\n",
        "# Check the shape of the DataFrame after removing outliers\n",
        "print(df_train.shape)\n"
      ]
    },
    {
      "cell_type": "code",
      "execution_count": null,
      "metadata": {
        "colab": {
          "base_uri": "https://localhost:8080/"
        },
        "id": "LtChB7Fdnu3m",
        "outputId": "3243f774-6442-4a5c-f92b-4c4493b26ef5"
      },
      "outputs": [
        {
          "output_type": "execute_result",
          "data": {
            "text/plain": [
              "Index(['Patient Age', 'Genes in mother's side', 'Inherited from father',\n",
              "       'Maternal gene', 'Paternal gene', 'Blood cell count (mcL)',\n",
              "       'Mother's age', 'Father's age', 'Status',\n",
              "       'Respiratory Rate (breaths/min)', 'Heart Rate (rates/min',\n",
              "       'Parental consent', 'Follow-up', 'Gender', 'Birth asphyxia',\n",
              "       'Autopsy shows birth defect (if applicable)',\n",
              "       'Folic acid details (peri-conceptional)',\n",
              "       'H/O serious maternal illness', 'H/O radiation exposure (x-ray)',\n",
              "       'H/O substance abuse', 'Assisted conception IVF/ART',\n",
              "       'History of anomalies in previous pregnancies',\n",
              "       'No. of previous abortion', 'Birth defects',\n",
              "       'White Blood cell count (thousand per microliter)', 'Blood test result',\n",
              "       'Genetic Disorder', 'Disorder Subclass', 'total test', 'total symptom'],\n",
              "      dtype='object')"
            ]
          },
          "metadata": {},
          "execution_count": 182
        }
      ],
      "source": [
        "df_train.columns"
      ]
    },
    {
      "cell_type": "code",
      "execution_count": null,
      "metadata": {
        "id": "Buwuoleanx_W"
      },
      "outputs": [],
      "source": [
        "from sklearn.feature_selection import SelectKBest, f_classif\n",
        "selector = SelectKBest(f_classif, k=10)\n",
        "selected_features = selector.fit_transform(df_train.drop('Status', axis=1), df_train['Status'])\n",
        "\n",
        "Y = df_train['Status']"
      ]
    },
    {
      "cell_type": "code",
      "execution_count": null,
      "metadata": {
        "id": "r-Xo2g6KoQ1e"
      },
      "outputs": [],
      "source": [
        "from sklearn.model_selection import train_test_split\n",
        "X_train, X_test, Y_train, Y_test = train_test_split(selected_features, Y, test_size= 0.2, random_state = 20)"
      ]
    },
    {
      "cell_type": "code",
      "execution_count": null,
      "metadata": {
        "colab": {
          "base_uri": "https://localhost:8080/"
        },
        "id": "_Ik4cHb7oTgZ",
        "outputId": "b47643c1-e726-4c08-b4b5-f7c9f2b8ca37"
      },
      "outputs": [
        {
          "output_type": "execute_result",
          "data": {
            "text/plain": [
              "Patient Age                                         0\n",
              "Genes in mother's side                              0\n",
              "Inherited from father                               0\n",
              "Maternal gene                                       0\n",
              "Paternal gene                                       0\n",
              "Blood cell count (mcL)                              0\n",
              "Mother's age                                        0\n",
              "Father's age                                        0\n",
              "Status                                              0\n",
              "Respiratory Rate (breaths/min)                      0\n",
              "Heart Rate (rates/min                               0\n",
              "Parental consent                                    0\n",
              "Follow-up                                           0\n",
              "Gender                                              0\n",
              "Birth asphyxia                                      0\n",
              "Autopsy shows birth defect (if applicable)          0\n",
              "Folic acid details (peri-conceptional)              0\n",
              "H/O serious maternal illness                        0\n",
              "H/O radiation exposure (x-ray)                      0\n",
              "H/O substance abuse                                 0\n",
              "Assisted conception IVF/ART                         0\n",
              "History of anomalies in previous pregnancies        0\n",
              "No. of previous abortion                            0\n",
              "Birth defects                                       0\n",
              "White Blood cell count (thousand per microliter)    0\n",
              "Blood test result                                   0\n",
              "Genetic Disorder                                    0\n",
              "Disorder Subclass                                   0\n",
              "total test                                          0\n",
              "total symptom                                       0\n",
              "dtype: int64"
            ]
          },
          "metadata": {},
          "execution_count": 185
        }
      ],
      "source": [
        "df_train.isnull().sum()"
      ]
    },
    {
      "cell_type": "code",
      "execution_count": null,
      "metadata": {
        "colab": {
          "base_uri": "https://localhost:8080/"
        },
        "id": "iuvJBtuB6DQH",
        "outputId": "4dc303a8-0953-4140-c5f9-48f467b5b466"
      },
      "outputs": [
        {
          "output_type": "stream",
          "name": "stdout",
          "text": [
            "Model accuracy score with linear kernel and C=1.0: 0.8603\n"
          ]
        }
      ],
      "source": [
        "from sklearn.svm import SVC\n",
        "from sklearn.metrics import accuracy_score\n",
        "from sklearn.model_selection import cross_val_score\n",
        "import numpy as np\n",
        "\n",
        "# Instantiate the Support Vector Classifier with linear kernel and a smaller C value\n",
        "linear_svc = SVC(kernel='linear', C=100)  # Reduced C to help with regularization\n",
        "\n",
        "# Fit the classifier to the imputed training set\n",
        "linear_svc.fit(X_train, Y_train)\n",
        "\n",
        "# Make predictions on the test set\n",
        "svm_pred = linear_svc.predict(X_test)\n",
        "\n",
        "# Compute accuracy score and print it\n",
        "accuracy_svm = accuracy_score(Y_test, svm_pred)\n",
        "print('Model accuracy score with linear kernel and C=1.0: {:.4f}'.format(accuracy_svm))\n"
      ]
    },
    {
      "cell_type": "code",
      "execution_count": null,
      "metadata": {
        "id": "O-UlNTMCAL2O"
      },
      "outputs": [],
      "source": [
        "# import joblib\n",
        "# # Save the model to a file\n",
        "# joblib.dump(linear_svc100, 'svm_model.pkl')"
      ]
    },
    {
      "cell_type": "code",
      "execution_count": null,
      "metadata": {
        "id": "_JRNuje9oXUY"
      },
      "outputs": [],
      "source": [
        "# # Instantiate the Support Vector Classifier with linear kernel and C=100.0\n",
        "# linear_svc100 = SVC(kernel = 'linear',C=100.0)\n",
        "\n",
        "# # Fit the classifier to the imputed training set\n",
        "# linear_svc100.fit(X_train, Y_train)\n",
        "\n",
        "# # Make predictions on the test set\n",
        "# svm_pred = linear_svc100.predict(X_test)\n",
        "\n",
        "# # Compute accuracy score and print it\n",
        "# accuracy = accuracy_score(Y_test, svm_pred)\n",
        "# print('Model accuracy score with linear kernel and C=100.0: {:.4f}'.format(accuracy))"
      ]
    },
    {
      "cell_type": "code",
      "execution_count": null,
      "metadata": {
        "id": "TyM9JP6RopGo"
      },
      "outputs": [],
      "source": [
        "# import joblib\n",
        "# # Save the model to a file\n",
        "# joblib.dump(linear_svc100, 'svm_model.pkl')"
      ]
    },
    {
      "cell_type": "code",
      "execution_count": null,
      "metadata": {
        "colab": {
          "base_uri": "https://localhost:8080/"
        },
        "id": "QD1NFx90Cq18",
        "outputId": "27479fbb-662b-41b2-9e14-7137143942a0"
      },
      "outputs": [
        {
          "output_type": "stream",
          "name": "stdout",
          "text": [
            "Precision: 1.0000\n",
            "Recall: 0.7178\n",
            "F1 Score: 0.8357\n"
          ]
        }
      ],
      "source": [
        "from sklearn.metrics import precision_score, recall_score, f1_score\n",
        "\n",
        "# Compute precision\n",
        "precision_svm = precision_score(Y_test, svm_pred)\n",
        "\n",
        "# Compute recall\n",
        "recall_svm = recall_score(Y_test, svm_pred)\n",
        "\n",
        "# Compute F1 score\n",
        "f1_svm = f1_score(Y_test, svm_pred)\n",
        "\n",
        "# Print the results\n",
        "print('Precision: {:.4f}'.format(precision_svm))\n",
        "print('Recall: {:.4f}'.format(recall_svm))\n",
        "print('F1 Score: {:.4f}'.format(f1_svm))"
      ]
    },
    {
      "cell_type": "code",
      "execution_count": null,
      "metadata": {
        "colab": {
          "base_uri": "https://localhost:8080/",
          "height": 564
        },
        "id": "QZjHKxJPCtCc",
        "outputId": "44d9d03c-f79a-40eb-e034-aa6fb4228d82"
      },
      "outputs": [
        {
          "output_type": "display_data",
          "data": {
            "text/plain": [
              "<Figure size 800x600 with 1 Axes>"
            ],
            "image/png": "[encoded data removed]"
          },
          "metadata": {}
        }
      ],
      "source": [
        "import matplotlib.pyplot as plt\n",
        "\n",
        "# Precision, Recall, and F1 score values\n",
        "scores = [precision_svm, recall_svm, f1_svm]\n",
        "score_names = ['Precision', 'Recall', 'F1 Score']\n",
        "\n",
        "# Create bar chart\n",
        "plt.figure(figsize=(8, 6))\n",
        "plt.bar(score_names, scores, color=['red', 'grey', 'indigo'])\n",
        "plt.title('Precision, Recall, and F1 Score')\n",
        "plt.xlabel('Score')\n",
        "plt.ylabel('Value')\n",
        "plt.ylim(0, 1)  # Limit y-axis from 0 to 1 for better visualization\n",
        "plt.show()"
      ]
    },
    {
      "cell_type": "code",
      "execution_count": null,
      "metadata": {
        "colab": {
          "base_uri": "https://localhost:8080/",
          "height": 564
        },
        "id": "dR6gQWXYDFfU",
        "outputId": "de56b109-1369-4016-ce80-8777030bcd32"
      },
      "outputs": [
        {
          "output_type": "display_data",
          "data": {
            "text/plain": [
              "<Figure size 800x600 with 1 Axes>"
            ],
            "image/png": "[encoded data removed]"
          },
          "metadata": {}
        }
      ],
      "source": [
        "from sklearn.metrics import confusion_matrix\n",
        "import seaborn as sns\n",
        "\n",
        "# Compute confusion matrix\n",
        "conf_matrix = confusion_matrix(Y_test, svm_pred)\n",
        "\n",
        "# Visualize confusion matrix\n",
        "plt.figure(figsize=(8, 6))\n",
        "sns.heatmap(conf_matrix, annot=True, fmt='d', cmap='viridis', cbar=False)\n",
        "plt.title('Confusion Matrix')\n",
        "plt.xlabel('Predicted Labels')\n",
        "plt.ylabel('True Labels')\n",
        "plt.show()\n"
      ]
    },
    {
      "cell_type": "code",
      "execution_count": null,
      "metadata": {
        "colab": {
          "base_uri": "https://localhost:8080/"
        },
        "id": "Sajp8W9IoYFp",
        "outputId": "b414d1c5-2304-48b4-c32c-11e54e025de4"
      },
      "outputs": [
        {
          "output_type": "stream",
          "name": "stdout",
          "text": [
            "Model accuracy score with KNN: 0.9754\n"
          ]
        }
      ],
      "source": [
        "knn_classifier = KNeighborsClassifier()\n",
        "\n",
        "# Fit the classifier to the imputed training set\n",
        "knn_classifier.fit(X_train, Y_train)\n",
        "\n",
        "# Make predictions on the test set\n",
        "knn_pred = knn_classifier.predict(X_test)\n",
        "\n",
        "# Compute accuracy score and print it\n",
        "accuracy_knn = accuracy_score(Y_test, knn_pred)\n",
        "print('Model accuracy score with KNN: {:.4f}'.format(accuracy_knn))"
      ]
    },
    {
      "cell_type": "code",
      "execution_count": null,
      "metadata": {
        "colab": {
          "base_uri": "https://localhost:8080/"
        },
        "id": "irTqF185D3hk",
        "outputId": "5e60eb19-c22b-4560-bf95-6f4d0838a669"
      },
      "outputs": [
        {
          "output_type": "stream",
          "name": "stdout",
          "text": [
            "Precision score with KNN: 0.9764\n",
            "Recall score with KNN: 0.9754\n",
            "F1 score with KNN: 0.9754\n"
          ]
        }
      ],
      "source": [
        "from sklearn.metrics import precision_score, recall_score, f1_score\n",
        "\n",
        "# Compute precision\n",
        "precision_knn = precision_score(Y_test, knn_pred, average='weighted')\n",
        "print('Precision score with KNN: {:.4f}'.format(precision_knn))\n",
        "\n",
        "# Compute recall\n",
        "recall_knn = recall_score(Y_test, knn_pred, average='weighted')\n",
        "print('Recall score with KNN: {:.4f}'.format(recall_knn))\n",
        "\n",
        "# Compute F1 score\n",
        "f1_knn = f1_score(Y_test, knn_pred, average='weighted')\n",
        "print('F1 score with KNN: {:.4f}'.format(f1_knn))\n"
      ]
    },
    {
      "cell_type": "code",
      "execution_count": null,
      "metadata": {
        "colab": {
          "base_uri": "https://localhost:8080/",
          "height": 564
        },
        "id": "EXa6OPxQD43V",
        "outputId": "54b3880a-635a-49fc-ed1f-9cce5c734cf6"
      },
      "outputs": [
        {
          "output_type": "display_data",
          "data": {
            "text/plain": [
              "<Figure size 800x600 with 1 Axes>"
            ],
            "image/png": "[encoded data removed]"
          },
          "metadata": {}
        }
      ],
      "source": [
        "import matplotlib.pyplot as plt\n",
        "\n",
        "# Calculate precision, recall, and F1 score\n",
        "precision = precision_score(Y_test, knn_pred, average='weighted')\n",
        "recall = recall_score(Y_test, knn_pred, average='weighted')\n",
        "f1 = f1_score(Y_test, knn_pred, average='weighted')\n",
        "\n",
        "# Plotting\n",
        "scores = [precision_knn, recall_knn, f1_knn]\n",
        "labels = ['Precision', 'Recall', 'F1 Score']\n",
        "\n",
        "plt.figure(figsize=(8, 6))\n",
        "plt.bar(labels, scores, color=['teal', 'coral', 'slategray'])\n",
        "plt.title('Performance Metrics for KNN Classifier')\n",
        "plt.xlabel('Metrics')\n",
        "plt.ylabel('Score')\n",
        "plt.ylim(0, 1)  # Set y-axis limit between 0 and 1 for scores\n",
        "plt.show()\n"
      ]
    },
    {
      "cell_type": "code",
      "execution_count": null,
      "metadata": {
        "colab": {
          "base_uri": "https://localhost:8080/",
          "height": 564
        },
        "id": "nNAvi4VLEBIM",
        "outputId": "9e8687fb-cb6c-4b7f-94e8-bc90afa924e0"
      },
      "outputs": [
        {
          "output_type": "display_data",
          "data": {
            "text/plain": [
              "<Figure size 800x600 with 1 Axes>"
            ],
            "image/png": "[encoded data removed]"
          },
          "metadata": {}
        }
      ],
      "source": [
        "from sklearn.metrics import confusion_matrix\n",
        "import seaborn as sns\n",
        "\n",
        "# Compute confusion matrix\n",
        "conf_matrix = confusion_matrix(Y_test, knn_pred)\n",
        "\n",
        "# Plotting\n",
        "plt.figure(figsize=(8, 6))\n",
        "sns.heatmap(conf_matrix, annot=True, fmt='d', cmap='cividis', cbar=False)\n",
        "plt.title('Confusion Matrix for KNN Classifier')\n",
        "plt.xlabel('Predicted Labels')\n",
        "plt.ylabel('True Labels')\n",
        "plt.show()\n"
      ]
    },
    {
      "cell_type": "code",
      "execution_count": null,
      "metadata": {
        "colab": {
          "base_uri": "https://localhost:8080/"
        },
        "id": "2B34-Yjz7eRd",
        "outputId": "55b2e49d-0cc9-4d6c-b761-0f0029295a0b"
      },
      "outputs": [
        {
          "output_type": "stream",
          "name": "stdout",
          "text": [
            "Model accuracy score with more regularized Decision Tree: 0.9109\n"
          ]
        }
      ],
      "source": [
        "from sklearn.tree import DecisionTreeClassifier\n",
        "from sklearn.metrics import accuracy_score\n",
        "from sklearn.model_selection import cross_val_score\n",
        "import numpy as np\n",
        "\n",
        "# Define a more regularized DecisionTreeClassifier\n",
        "decision_tree = DecisionTreeClassifier(\n",
        "    criterion='entropy',\n",
        "    max_depth=4,  # Reduced max depth\n",
        "    min_samples_split=50,  # Increased min samples split\n",
        "    min_samples_leaf=20,  # Increased min samples leaf\n",
        "    max_features='sqrt',  # Use sqrt of features for best split\n",
        "    random_state=42\n",
        ")\n",
        "\n",
        "# Fit the classifier to the training set\n",
        "decision_tree.fit(X_train, Y_train)\n",
        "\n",
        "# Make predictions on the test set\n",
        "dt_pred = decision_tree.predict(X_test)\n",
        "\n",
        "# Compute accuracy score and print it\n",
        "accuracy_dt = accuracy_score(Y_test, dt_pred)\n",
        "print('Model accuracy score with more regularized Decision Tree: {:.4f}'.format(accuracy_dt))\n",
        "\n"
      ]
    },
    {
      "cell_type": "code",
      "execution_count": null,
      "metadata": {
        "id": "xO7GJtchplml"
      },
      "outputs": [],
      "source": [
        "# # Instantiate the DecisionTreeClassifier\n",
        "# decision_tree = DecisionTreeClassifier(criterion='entropy', random_state=30, max_depth=2, min_samples_split=20, min_samples_leaf=30, max_features=9)\n",
        "\n",
        "# # Fit the classifier to the imputed training set\n",
        "# decision_tree.fit(X_train, Y_train)\n",
        "\n",
        "# # Make predictions on the test set\n",
        "# dt_pred = decision_tree.predict(X_test)\n",
        "\n",
        "# # Compute accuracy score and print it\n",
        "# accuracy = accuracy_score(Y_test, dt_pred)\n",
        "# print('Model accuracy score with Decision Tree: {:.4f}'.format(accuracy))"
      ]
    },
    {
      "cell_type": "code",
      "execution_count": null,
      "metadata": {
        "id": "1tp4r642qBYS"
      },
      "outputs": [],
      "source": [
        "# import joblib\n",
        "# # Save the model to a file\n",
        "# joblib.dump(decision_tree, 'dt_model.pkl')"
      ]
    },
    {
      "cell_type": "code",
      "execution_count": null,
      "metadata": {
        "colab": {
          "base_uri": "https://localhost:8080/"
        },
        "id": "CECnbyN8EPF0",
        "outputId": "2ccf9148-2cfc-450b-ee14-2c9e1f675d87"
      },
      "outputs": [
        {
          "output_type": "stream",
          "name": "stdout",
          "text": [
            "Precision score with Decision Tree: 0.9428\n",
            "Recall score with Decision Tree: 0.9355\n",
            "F1 score with Decision Tree: 0.9352\n"
          ]
        }
      ],
      "source": [
        "from sklearn.metrics import precision_score, recall_score, f1_score\n",
        "\n",
        "# Compute precision\n",
        "precision_dt = precision_score(Y_test, dt_pred, average='weighted')\n",
        "print('Precision score with Decision Tree: {:.4f}'.format(precision))\n",
        "\n",
        "# Compute recall\n",
        "recall_dt = recall_score(Y_test, dt_pred, average='weighted')\n",
        "print('Recall score with Decision Tree: {:.4f}'.format(recall))\n",
        "\n",
        "# Compute F1 score\n",
        "f1_dt = f1_score(Y_test, dt_pred, average='weighted')\n",
        "print('F1 score with Decision Tree: {:.4f}'.format(f1))\n"
      ]
    },
    {
      "cell_type": "code",
      "execution_count": null,
      "metadata": {
        "colab": {
          "base_uri": "https://localhost:8080/",
          "height": 564
        },
        "id": "wR1z7t6HERIu",
        "outputId": "fa2e7ca1-a822-44e5-bd9b-cb93a87b3669"
      },
      "outputs": [
        {
          "output_type": "display_data",
          "data": {
            "text/plain": [
              "<Figure size 800x600 with 1 Axes>"
            ],
            "image/png": "[encoded data removed]"
          },
          "metadata": {}
        }
      ],
      "source": [
        "import matplotlib.pyplot as plt\n",
        "\n",
        "# Calculate precision, recall, and F1 score\n",
        "precision = precision_score(Y_test, dt_pred, average='weighted')\n",
        "recall = recall_score(Y_test, dt_pred, average='weighted')\n",
        "f1 = f1_score(Y_test, dt_pred, average='weighted')\n",
        "\n",
        "# Plotting\n",
        "scores = [precision_dt, recall_dt, f1_dt]\n",
        "labels = ['Precision', 'Recall', 'F1 Score']\n",
        "\n",
        "plt.figure(figsize=(8, 6))\n",
        "plt.bar(labels, scores, color=['indigo', 'maroon', 'orchid'])\n",
        "plt.title('Performance Metrics for Decision Tree Classifier')\n",
        "plt.xlabel('Metrics')\n",
        "plt.ylabel('Score')\n",
        "plt.ylim(0, 1)  # Set y-axis limit between 0 and 1 for scores\n",
        "plt.show()\n"
      ]
    },
    {
      "cell_type": "code",
      "execution_count": null,
      "metadata": {
        "colab": {
          "base_uri": "https://localhost:8080/",
          "height": 564
        },
        "id": "3RTnr0ylERD0",
        "outputId": "45a61c79-2571-42ff-f5fe-6147abe8d44c"
      },
      "outputs": [
        {
          "output_type": "display_data",
          "data": {
            "text/plain": [
              "<Figure size 800x600 with 1 Axes>"
            ],
            "image/png": "[encoded data removed]"
          },
          "metadata": {}
        }
      ],
      "source": [
        "from sklearn.metrics import confusion_matrix\n",
        "import seaborn as sns\n",
        "\n",
        "# Compute confusion matrix\n",
        "conf_matrix = confusion_matrix(Y_test, dt_pred)\n",
        "\n",
        "# Plotting\n",
        "plt.figure(figsize=(8, 6))\n",
        "sns.heatmap(conf_matrix, annot=True, fmt='d', cmap='icefire', cbar=False)\n",
        "plt.title('Confusion Matrix for Decision Tree Classifier')\n",
        "plt.xlabel('Predicted Labels')\n",
        "plt.ylabel('True Labels')\n",
        "plt.show()\n"
      ]
    },
    {
      "cell_type": "code",
      "execution_count": null,
      "metadata": {
        "colab": {
          "base_uri": "https://localhost:8080/"
        },
        "id": "wQr-OVu48A7A",
        "outputId": "29bfa1f1-50df-4f15-9d08-0dd5ee0d8e34"
      },
      "outputs": [
        {
          "output_type": "stream",
          "name": "stdout",
          "text": [
            "Model accuracy score with more regularized Random Forest: 0.9672\n"
          ]
        }
      ],
      "source": [
        "from sklearn.ensemble import RandomForestClassifier\n",
        "from sklearn.metrics import accuracy_score\n",
        "from sklearn.model_selection import cross_val_score\n",
        "import numpy as np\n",
        "\n",
        "# Define a more regularized RandomForestClassifier\n",
        "random_forest = RandomForestClassifier(\n",
        "    n_estimators=10,\n",
        "    criterion='entropy',\n",
        "    max_depth=5,  # Reduced max depth\n",
        "    min_samples_split=10,  # Increased min samples split\n",
        "    min_samples_leaf=10,  # Increased min samples leaf\n",
        "    max_features='sqrt',\n",
        "    n_jobs=-1,\n",
        "    random_state=42\n",
        ")\n",
        "\n",
        "# Fit the classifier to the training set\n",
        "random_forest.fit(X_train, Y_train)\n",
        "\n",
        "# Make predictions on the test set\n",
        "rf_pred = random_forest.predict(X_test)\n",
        "\n",
        "# Compute accuracy score and print it\n",
        "accuracy_rf = accuracy_score(Y_test, rf_pred)\n",
        "print('Model accuracy score with more regularized Random Forest: {:.4f}'.format(accuracy_rf))\n"
      ]
    },
    {
      "cell_type": "code",
      "execution_count": null,
      "metadata": {
        "id": "2iPr2lGXpnNf"
      },
      "outputs": [],
      "source": [
        "# # Instantiate the RandomForestClassifier\n",
        "# random_forest = RandomForestClassifier(n_estimators=100,n_jobs=10,criterion=\"entropy\")\n",
        "\n",
        "# # Fit the classifier to the imputed training set\n",
        "# random_forest.fit(X_train, Y_train)\n",
        "\n",
        "# # Make predictions on the test set\n",
        "# rf_pred = random_forest.predict(X_test)\n",
        "\n",
        "# # Compute accuracy score and print it\n",
        "# accuracy = accuracy_score(Y_test, rf_pred)\n",
        "# print('Model accuracy score with Random Forest: {:.4f}'.format(accuracy))"
      ]
    },
    {
      "cell_type": "code",
      "execution_count": null,
      "metadata": {
        "colab": {
          "base_uri": "https://localhost:8080/"
        },
        "id": "ufY72s_CEtLk",
        "outputId": "32bea51d-6318-4ec0-8642-57181f57a6a9"
      },
      "outputs": [
        {
          "output_type": "stream",
          "name": "stdout",
          "text": [
            "Precision score with Random Forest: 0.9243\n",
            "Recall score with Random Forest: 0.9109\n",
            "F1 score with Random Forest: 0.9101\n"
          ]
        }
      ],
      "source": [
        "from sklearn.metrics import precision_score, recall_score, f1_score\n",
        "\n",
        "# Compute precision\n",
        "precision_rf = precision_score(Y_test, rf_pred, average='weighted')\n",
        "print('Precision score with Random Forest: {:.4f}'.format(precision))\n",
        "\n",
        "# Compute recall\n",
        "recall_rf = recall_score(Y_test, rf_pred, average='weighted')\n",
        "print('Recall score with Random Forest: {:.4f}'.format(recall))\n",
        "\n",
        "# Compute F1 score\n",
        "f1_rf = f1_score(Y_test, rf_pred, average='weighted')\n",
        "print('F1 score with Random Forest: {:.4f}'.format(f1))\n"
      ]
    },
    {
      "cell_type": "code",
      "execution_count": null,
      "metadata": {
        "colab": {
          "base_uri": "https://localhost:8080/",
          "height": 564
        },
        "id": "xpWYOVSLEbEL",
        "outputId": "aac9ce09-b208-4992-a61e-3bffa24c7ee9"
      },
      "outputs": [
        {
          "output_type": "display_data",
          "data": {
            "text/plain": [
              "<Figure size 800x600 with 1 Axes>"
            ],
            "image/png": "[encoded data removed]"
          },
          "metadata": {}
        }
      ],
      "source": [
        "import matplotlib.pyplot as plt\n",
        "\n",
        "# Calculate precision, recall, and F1 score\n",
        "precision = precision_score(Y_test, rf_pred, average='weighted')\n",
        "recall = recall_score(Y_test, rf_pred, average='weighted')\n",
        "f1 = f1_score(Y_test, rf_pred, average='weighted')\n",
        "\n",
        "# Plotting precision, recall, and F1 score\n",
        "scores = [precision_rf, recall_rf, f1_rf]\n",
        "labels = ['Precision', 'Recall', 'F1 Score']\n",
        "\n",
        "plt.figure(figsize=(8, 6))\n",
        "plt.bar(labels, scores, color=['pink', 'purple', 'red'])\n",
        "plt.title('Performance Metrics for Random Forest Classifier')\n",
        "plt.xlabel('Metrics')\n",
        "plt.ylabel('Score')\n",
        "plt.ylim(0, 1)  # Set y-axis limit between 0 and 1 for scores\n",
        "plt.show()"
      ]
    },
    {
      "cell_type": "code",
      "execution_count": null,
      "metadata": {
        "colab": {
          "base_uri": "https://localhost:8080/",
          "height": 564
        },
        "id": "Hz-nF0HAEyxd",
        "outputId": "7532a214-1d7b-49a6-dc19-9609e449fe44"
      },
      "outputs": [
        {
          "output_type": "display_data",
          "data": {
            "text/plain": [
              "<Figure size 800x600 with 1 Axes>"
            ],
            "image/png": "[encoded data removed]"
          },
          "metadata": {}
        }
      ],
      "source": [
        "# Visualizing confusion matrix\n",
        "from sklearn.metrics import confusion_matrix\n",
        "import seaborn as sns\n",
        "\n",
        "# Compute confusion matrix\n",
        "conf_matrix = confusion_matrix(Y_test, rf_pred)\n",
        "\n",
        "# Plotting confusion matrix\n",
        "plt.figure(figsize=(8, 6))\n",
        "sns.heatmap(conf_matrix, annot=True, fmt='d', cmap='rocket', cbar=False)\n",
        "plt.title('Confusion Matrix for Random Forest Classifier')\n",
        "plt.xlabel('Predicted Labels')\n",
        "plt.ylabel('True Labels')\n",
        "plt.show()"
      ]
    },
    {
      "cell_type": "code",
      "execution_count": null,
      "metadata": {
        "colab": {
          "base_uri": "https://localhost:8080/"
        },
        "id": "lDqfssfArK78",
        "outputId": "6497e0c2-2f2c-4e6c-a60a-6b95d4620c62"
      },
      "outputs": [
        {
          "output_type": "stream",
          "name": "stdout",
          "text": [
            "Model accuracy score with Logistic Regression: 0.8603\n"
          ]
        }
      ],
      "source": [
        "# Instantiate the LogisticRegression\n",
        "logistic_regression = LogisticRegression()\n",
        "\n",
        "# Fit the classifier to the imputed training set\n",
        "logistic_regression.fit(X_train, Y_train)\n",
        "\n",
        "# Make predictions on the test set\n",
        "logistic_pred = logistic_regression.predict(X_test)\n",
        "\n",
        "# Compute accuracy score and print it\n",
        "accuracy_lr = accuracy_score(Y_test, logistic_pred)\n",
        "print('Model accuracy score with Logistic Regression: {:.4f}'.format(accuracy_lr))"
      ]
    },
    {
      "cell_type": "code",
      "execution_count": null,
      "metadata": {
        "colab": {
          "base_uri": "https://localhost:8080/"
        },
        "id": "h1nSf1HaE3Xk",
        "outputId": "641267e7-31f7-4fb5-9c73-097212530a4e"
      },
      "outputs": [
        {
          "output_type": "stream",
          "name": "stdout",
          "text": [
            "Precision score with Logistic Regression: 0.9692\n",
            "Recall score with Logistic Regression: 0.9672\n",
            "F1 score with Logistic Regression: 0.9671\n"
          ]
        }
      ],
      "source": [
        "from sklearn.metrics import precision_score, recall_score, f1_score\n",
        "\n",
        "# Compute precision\n",
        "precision_lr = precision_score(Y_test, logistic_pred, average='weighted')\n",
        "print('Precision score with Logistic Regression: {:.4f}'.format(precision))\n",
        "\n",
        "# Compute recall\n",
        "recall_lr = recall_score(Y_test, logistic_pred, average='weighted')\n",
        "print('Recall score with Logistic Regression: {:.4f}'.format(recall))\n",
        "\n",
        "# Compute F1 score\n",
        "f1_lr = f1_score(Y_test, logistic_pred, average='weighted')\n",
        "print('F1 score with Logistic Regression: {:.4f}'.format(f1))\n"
      ]
    },
    {
      "cell_type": "code",
      "execution_count": null,
      "metadata": {
        "colab": {
          "base_uri": "https://localhost:8080/",
          "height": 564
        },
        "id": "Lr4W5Z9VFA_l",
        "outputId": "3ff968e2-2516-4231-ff68-f6d1ce227616"
      },
      "outputs": [
        {
          "output_type": "display_data",
          "data": {
            "text/plain": [
              "<Figure size 800x600 with 1 Axes>"
            ],
            "image/png": "[encoded data removed]"
          },
          "metadata": {}
        }
      ],
      "source": [
        "import matplotlib.pyplot as plt\n",
        "\n",
        "# Calculate precision, recall, and F1 score\n",
        "precision = precision_score(Y_test, logistic_pred, average='weighted')\n",
        "recall = recall_score(Y_test, logistic_pred, average='weighted')\n",
        "f1 = f1_score(Y_test, logistic_pred, average='weighted')\n",
        "\n",
        "# Plotting precision, recall, and F1 score\n",
        "scores = [precision_lr, recall_lr, f1_lr]\n",
        "labels = ['Precision', 'Recall', 'F1 Score']\n",
        "\n",
        "plt.figure(figsize=(8, 6))\n",
        "plt.bar(labels, scores, color=['olive', 'grey', 'cyan'])\n",
        "plt.title('Performance Metrics for Logistic Regression Classifier')\n",
        "plt.xlabel('Metrics')\n",
        "plt.ylabel('Score')\n",
        "plt.ylim(0, 1)  # Set y-axis limit between 0 and 1 for scores\n",
        "plt.show()\n"
      ]
    },
    {
      "cell_type": "code",
      "execution_count": null,
      "metadata": {
        "colab": {
          "base_uri": "https://localhost:8080/",
          "height": 564
        },
        "id": "dWlAjPRZFA6M",
        "outputId": "69000d64-dccb-4f7d-ff17-43572c50d15c"
      },
      "outputs": [
        {
          "output_type": "display_data",
          "data": {
            "text/plain": [
              "<Figure size 800x600 with 1 Axes>"
            ],
            "image/png": "[encoded data removed]"
          },
          "metadata": {}
        }
      ],
      "source": [
        "from sklearn.metrics import confusion_matrix\n",
        "import seaborn as sns\n",
        "\n",
        "# Compute confusion matrix\n",
        "conf_matrix = confusion_matrix(Y_test, logistic_pred)\n",
        "\n",
        "# Plotting confusion matrix\n",
        "plt.figure(figsize=(8, 6))\n",
        "sns.heatmap(conf_matrix, annot=True, fmt='d', cmap='Blues', cbar=False)\n",
        "plt.title('Confusion Matrix for Logistic Regression Classifier')\n",
        "plt.xlabel('Predicted Labels')\n",
        "plt.ylabel('True Labels')\n",
        "plt.show()\n"
      ]
    },
    {
      "cell_type": "code",
      "execution_count": null,
      "metadata": {
        "colab": {
          "base_uri": "https://localhost:8080/"
        },
        "id": "H4Q6iFDc4ntC",
        "outputId": "d780d0cb-3608-415e-cd9d-930a4c550634"
      },
      "outputs": [
        {
          "output_type": "stream",
          "name": "stdout",
          "text": [
            "Model accuracy score with Gradient Boosting Classifier: 0.9355\n"
          ]
        }
      ],
      "source": [
        "from sklearn.ensemble import GradientBoostingClassifier\n",
        "from sklearn.metrics import accuracy_score\n",
        "\n",
        "# Define the Gradient Boosting Classifier with reduced complexity\n",
        "gradient_boosting = GradientBoostingClassifier(\n",
        "    n_estimators=7,  # Reduce the number of boosting stages\n",
        "    learning_rate=0.1,\n",
        "    max_depth=5,\n",
        "    min_samples_split=150,\n",
        "    min_samples_leaf=150,\n",
        "    max_features='sqrt',\n",
        "    random_state=42\n",
        ")\n",
        "\n",
        "# Fit the classifier to the training set\n",
        "gradient_boosting.fit(X_train, Y_train)\n",
        "\n",
        "# Make predictions on the test set\n",
        "gb_pred = gradient_boosting.predict(X_test)\n",
        "\n",
        "# Compute accuracy score and print it\n",
        "accuracy_gb = accuracy_score(Y_test, gb_pred)\n",
        "print('Model accuracy score with Gradient Boosting Classifier: {:.4f}'.format(accuracy_gb))\n"
      ]
    },
    {
      "cell_type": "code",
      "execution_count": null,
      "metadata": {
        "id": "dVRlVX1pqgbC"
      },
      "outputs": [],
      "source": [
        "# import joblib\n",
        "# # Save the model to a file\n",
        "# joblib.dump(xgb_classifier, 'xg_model.pkl')"
      ]
    },
    {
      "cell_type": "code",
      "execution_count": null,
      "metadata": {
        "colab": {
          "base_uri": "https://localhost:8080/"
        },
        "id": "27G7jxxeFPI5",
        "outputId": "19e94958-484f-4e92-924d-d700dc954a3a"
      },
      "outputs": [
        {
          "output_type": "stream",
          "name": "stdout",
          "text": [
            "Precision score with XGBoost: 0.9428\n",
            "Recall score with XGBoost: 0.9355\n",
            "F1 score with XGBoost: 0.9352\n"
          ]
        }
      ],
      "source": [
        "from sklearn.metrics import precision_score, recall_score, f1_score\n",
        "\n",
        "# Compute precision\n",
        "precision_gb = precision_score(Y_test, gb_pred, average='weighted')\n",
        "print('Precision score with XGBoost: {:.4f}'.format(precision_gb))\n",
        "\n",
        "# Compute recall\n",
        "recall_gb = recall_score(Y_test, gb_pred, average='weighted')\n",
        "print('Recall score with XGBoost: {:.4f}'.format(recall_gb))\n",
        "\n",
        "# Compute F1 score\n",
        "f1_gb = f1_score(Y_test, gb_pred, average='weighted')\n",
        "print('F1 score with XGBoost: {:.4f}'.format(f1_gb))\n"
      ]
    },
    {
      "cell_type": "code",
      "execution_count": null,
      "metadata": {
        "colab": {
          "base_uri": "https://localhost:8080/",
          "height": 564
        },
        "id": "zXkrWuc7FPFR",
        "outputId": "54ea1413-1de8-4830-b1b2-3ec7def114f3"
      },
      "outputs": [
        {
          "output_type": "display_data",
          "data": {
            "text/plain": [
              "<Figure size 800x600 with 1 Axes>"
            ],
            "image/png": "[encoded data removed]"
          },
          "metadata": {}
        }
      ],
      "source": [
        "import matplotlib.pyplot as plt\n",
        "\n",
        "# Calculate precision, recall, and F1 score\n",
        "precision = precision_score(Y_test, gb_pred, average='weighted')\n",
        "recall = recall_score(Y_test, gb_pred, average='weighted')\n",
        "f1 = f1_score(Y_test, gb_pred, average='weighted')\n",
        "\n",
        "# Plotting precision, recall, and F1 score\n",
        "scores = [precision_gb, recall_gb, f1_gb]\n",
        "labels = ['Precision', 'Recall', 'F1 Score']\n",
        "\n",
        "plt.figure(figsize=(8, 6))\n",
        "plt.bar(labels, scores, color=['orange', 'red', 'brown'])\n",
        "plt.title('Performance Metrics for XGBoost Classifier')\n",
        "plt.xlabel('Metrics')\n",
        "plt.ylabel('Score')\n",
        "plt.ylim(0, 1)  # Set y-axis limit between 0 and 1 for scores\n",
        "plt.show()\n"
      ]
    },
    {
      "cell_type": "code",
      "execution_count": null,
      "metadata": {
        "colab": {
          "base_uri": "https://localhost:8080/",
          "height": 564
        },
        "id": "u0RX7Er5FPBp",
        "outputId": "55699833-0ff2-4130-ae84-d9fa7f4d163a"
      },
      "outputs": [
        {
          "output_type": "display_data",
          "data": {
            "text/plain": [
              "<Figure size 800x600 with 1 Axes>"
            ],
            "image/png": "[encoded data removed]"
          },
          "metadata": {}
        }
      ],
      "source": [
        "from sklearn.metrics import confusion_matrix\n",
        "import seaborn as sns\n",
        "\n",
        "# Compute confusion matrix\n",
        "conf_matrix = confusion_matrix(Y_test, gb_pred)\n",
        "\n",
        "# Plotting confusion matrix\n",
        "plt.figure(figsize=(8, 6))\n",
        "sns.heatmap(conf_matrix, annot=True, fmt='d', cmap='Greens', cbar=False)\n",
        "plt.title('Confusion Matrix for XGBoost Classifier')\n",
        "plt.xlabel('Predicted Labels')\n",
        "plt.ylabel('True Labels')\n",
        "plt.show()\n"
      ]
    },
    {
      "cell_type": "code",
      "execution_count": null,
      "metadata": {
        "colab": {
          "base_uri": "https://localhost:8080/",
          "height": 807
        },
        "id": "Psc6d-v4On9u",
        "outputId": "1a76273f-5b2b-474a-8777-7a91b51f56ce"
      },
      "outputs": [
        {
          "output_type": "display_data",
          "data": {
            "text/plain": [
              "<Figure size 1200x800 with 1 Axes>"
            ],
            "image/png": "[encoded data removed]"
          },
          "metadata": {}
        }
      ],
      "source": [
        "import matplotlib.pyplot as plt\n",
        "import numpy as np\n",
        "\n",
        "# Define the classifiers and their corresponding performance metrics\n",
        "classifiers = ['SVM', 'KNN', 'Decision Tree', 'Random Forest', 'Logistic Regression', 'Gradient Boosting']\n",
        "accuracy_scores = [accuracy_svm, accuracy_knn, accuracy_dt, accuracy_rf, accuracy_lr, accuracy_gb]\n",
        "precision_scores = [precision, precision_knn, precision_dt, precision_rf, precision_lr, precision_gb]\n",
        "recall_scores = [recall, recall_knn, recall_dt, recall_rf, recall_lr, recall_gb]\n",
        "f1_scores = [f1, f1_knn, f1_dt, f1_rf, f1_lr, f1_gb]\n",
        "\n",
        "# Define the number of classifiers\n",
        "num_classifiers = len(classifiers)\n",
        "\n",
        "# Set the width of the bars\n",
        "bar_width = 0.2\n",
        "\n",
        "# Set the positions of the bars on the x-axis\n",
        "index = np.arange(num_classifiers)\n",
        "\n",
        "# Plotting the grouped bar plot\n",
        "plt.figure(figsize=(12, 8))\n",
        "\n",
        "# Plotting accuracy scores\n",
        "plt.bar(index - 1.5 * bar_width, accuracy_scores, bar_width, label='Accuracy', color='gray')\n",
        "\n",
        "# Plotting precision scores\n",
        "plt.bar(index - 0.5 * bar_width, precision_scores, bar_width, label='Precision', color='blue')\n",
        "\n",
        "# Plotting recall scores\n",
        "plt.bar(index + 0.5 * bar_width, recall_scores, bar_width, label='Recall', color='orange')\n",
        "\n",
        "# Plotting F1 scores\n",
        "plt.bar(index + 1.5 * bar_width, f1_scores, bar_width, label='F1 Score', color='green')\n",
        "\n",
        "# Adding labels and title\n",
        "plt.xlabel('Model', fontsize=14)\n",
        "plt.ylabel('Scores', fontsize=14)\n",
        "plt.title('Performance Metrics of Model', fontsize=16)\n",
        "plt.xticks(index, classifiers, rotation=45, fontsize=12)\n",
        "plt.legend()\n",
        "\n",
        "# Display the plot\n",
        "plt.tight_layout()\n",
        "plt.show()\n"
      ]
    },
    {
      "cell_type": "code",
      "execution_count": null,
      "metadata": {
        "id": "tR1JsU-dbPlg"
      },
      "outputs": [],
      "source": [
        "# import matplotlib.pyplot as plt\n",
        "# from sklearn.metrics import roc_curve, roc_auc_score\n",
        "\n",
        "# # Calculate ROC curve and AUC for each model\n",
        "# models = {\n",
        "#     # 'Linear SVM (C=100.0)': linear_svc,\n",
        "#     'KNN': knn_classifier,\n",
        "#     'Decision Tree': decision_tree,\n",
        "#     'Random Forest': random_forest,\n",
        "#     'Logistic Regression': logistic_regression,\n",
        "#     'Gradient Boosting Classifier': gradient_boosting  # Updated name here\n",
        "# }\n",
        "\n",
        "# plt.figure(figsize=(10, 8))\n",
        "\n",
        "# for name, model in models.items():\n",
        "#     if hasattr(model, \"predict_proba\"):\n",
        "#         probs = model.predict_proba(X_test)\n",
        "#         preds = probs[:, 1]\n",
        "#     else:\n",
        "#         preds = model.decision_function(X_test)\n",
        "\n",
        "#     fpr, tpr, threshold = roc_curve(Y_test, preds)\n",
        "#     auc = roc_auc_score(Y_test, preds)\n",
        "\n",
        "#     plt.plot(fpr, tpr, label=f'{name} (AUC = {auc:.2f})')\n",
        "\n",
        "# plt.plot([0, 1], [0, 1], linestyle='--', color='gray', label='Random Guessing')\n",
        "\n",
        "# plt.xlabel('False Positive Rate')\n",
        "# plt.ylabel('True Positive Rate')\n",
        "# plt.title('ROC Curve')\n",
        "# plt.legend(loc='lower right')\n",
        "# plt.grid(True)\n",
        "# plt.show()\n"
      ]
    },
    {
      "cell_type": "markdown",
      "metadata": {
        "id": "g-NA3_etAVzT"
      },
      "source": [
        "**Hybrid Model**"
      ]
    },
    {
      "cell_type": "code",
      "execution_count": null,
      "metadata": {
        "colab": {
          "base_uri": "https://localhost:8080/"
        },
        "id": "Rbe1AoYokTVh",
        "outputId": "11229e28-373f-42c4-a7bf-a721332cd2ab"
      },
      "outputs": [
        {
          "name": "stdout",
          "output_type": "stream",
          "text": [
            "Model accuracy score with Hybrid Model: 0.9959\n"
          ]
        }
      ],
      "source": [
        "from sklearn.neighbors import KNeighborsClassifier\n",
        "from sklearn.ensemble import VotingClassifier\n",
        "from sklearn.svm import SVC\n",
        "from sklearn.tree import DecisionTreeClassifier\n",
        "from sklearn.ensemble import RandomForestClassifier, GradientBoostingClassifier\n",
        "from sklearn.metrics import accuracy_score\n",
        "\n",
        "# Define classifiers for the hybrid model, including KNN\n",
        "knn_classifier = KNeighborsClassifier(n_neighbors=5)\n",
        "\n",
        "svm_classifier = SVC(kernel='linear', C=1.0, probability=True)\n",
        "\n",
        "random_forest = RandomForestClassifier(\n",
        "    n_estimators=200,\n",
        "    criterion='entropy',\n",
        "    max_depth=5,\n",
        "    min_samples_split=100,\n",
        "    min_samples_leaf=50,\n",
        "    max_features='sqrt',\n",
        "    n_jobs=-1,\n",
        "    random_state=42\n",
        ")\n",
        "gradient_boosting = GradientBoostingClassifier(\n",
        "    n_estimators=50,\n",
        "    learning_rate=0.1,\n",
        "    max_depth=3,\n",
        "    min_samples_split=100,\n",
        "    min_samples_leaf=50,\n",
        "    max_features='sqrt',\n",
        "    random_state=42\n",
        ")\n",
        "\n",
        "# Define the hybrid model by combining multiple classifiers\n",
        "hybrid_model = VotingClassifier(\n",
        "    estimators=[\n",
        "        ('knn', knn_classifier),\n",
        "        ('svm', svm_classifier),\n",
        "        ('random_forest', random_forest),\n",
        "        ('gradient_boosting', gradient_boosting)\n",
        "    ],\n",
        "    voting='soft'  # Soft voting for probability averaging\n",
        ")\n",
        "\n",
        "# Train the hybrid model\n",
        "hybrid_model.fit(X_train, Y_train)\n",
        "\n",
        "# Make predictions on the test set using the hybrid model\n",
        "hybrid_pred = hybrid_model.predict(X_test)\n",
        "\n",
        "# Compute accuracy score of the hybrid model\n",
        "accuracy = accuracy_score(Y_test, hybrid_pred)\n",
        "print('Model accuracy score with Hybrid Model: {:.4f}'.format(accuracy))"
      ]
    },
    {
      "cell_type": "code",
      "execution_count": null,
      "metadata": {
        "colab": {
          "base_uri": "https://localhost:8080/",
          "height": 654
        },
        "id": "C8mZj8xgbkAo",
        "outputId": "6e0e940f-6c3e-444f-b882-7f899d5abb3d"
      },
      "outputs": [
        {
          "data": {
            "image/png": "[encoded data removed]",
            "text/plain": [
              "<Figure size 1000x600 with 1 Axes>"
            ]
          },
          "metadata": {},
          "output_type": "display_data"
        }
      ],
      "source": [
        "import matplotlib.pyplot as plt\n",
        "\n",
        "# Accuracy scores of individual models\n",
        "individual_models = {\n",
        "    'SVM': accuracy_score(Y_test, svm_pred),\n",
        "    'KNN': accuracy_score(Y_test, knn_pred),\n",
        "    'Decision Tree': accuracy_score(Y_test, dt_pred),\n",
        "    'Random Forest': accuracy_score(Y_test, rf_pred),\n",
        "    'Logistic Regression': accuracy_score(Y_test, logistic_pred),\n",
        "    'Gradient Boosting': accuracy_score(Y_test, gb_pred)\n",
        "}\n",
        "\n",
        "# Accuracy score of the hybrid model\n",
        "hybrid_accuracy = accuracy_score(Y_test, hybrid_pred)\n",
        "\n",
        "# Add hybrid model to individual models dictionary\n",
        "individual_models['Ensemble'] = hybrid_accuracy\n",
        "\n",
        "# Plot the comparison graph\n",
        "plt.figure(figsize=(10, 6))\n",
        "plt.bar(individual_models.keys(), individual_models.values(), color=['blue', 'orange', 'green', 'red', 'purple', 'brown', 'cyan'])\n",
        "plt.xlabel('Model')\n",
        "plt.ylabel('Accuracy Score')\n",
        "plt.title('Model Comparison')\n",
        "plt.ylim(0.0, 1.0)  # Set y-axis limit to ensure visibility of bars\n",
        "plt.xticks(rotation=45)  # Rotate x-axis labels for better readability\n",
        "plt.axhline(hybrid_accuracy, color='black', linestyle='--', label='Ensemble Model Accuracy')\n",
        "plt.legend()\n",
        "plt.show()\n"
      ]
    },
    {
      "cell_type": "code",
      "execution_count": null,
      "metadata": {
        "colab": {
          "base_uri": "https://localhost:8080/",
          "height": 654
        },
        "id": "CauIH8CrbxQm",
        "outputId": "64df852e-a7f4-4685-bd88-202fea3b702c"
      },
      "outputs": [
        {
          "data": {
            "image/png": "[encoded data removed]",
            "text/plain": [
              "<Figure size 1000x600 with 1 Axes>"
            ]
          },
          "metadata": {},
          "output_type": "display_data"
        }
      ],
      "source": [
        "# Accuracy scores of individual models excluding hybrid\n",
        "individual_models_without_hybrid = {\n",
        "    'SVM': accuracy_score(Y_test, svm_pred),\n",
        "    'KNN': accuracy_score(Y_test, knn_pred),\n",
        "    'Decision Tree': accuracy_score(Y_test, dt_pred),\n",
        "    'Random Forest': accuracy_score(Y_test, rf_pred),\n",
        "    'Logistic Regression': accuracy_score(Y_test, logistic_pred),\n",
        "    'Gradient Boosting': accuracy_score(Y_test, gb_pred)\n",
        "}\n",
        "\n",
        "# Plot the comparison graph\n",
        "plt.figure(figsize=(10, 6))\n",
        "plt.bar(individual_models_without_hybrid.keys(), individual_models_without_hybrid.values(), color=['teal', 'orange', 'grey', 'red', 'purple', 'pink'])\n",
        "plt.xlabel('Model')\n",
        "plt.ylabel('Accuracy Score')\n",
        "plt.title('Model Comparison')\n",
        "plt.ylim(0.0, 1.0)  # Set y-axis limit to ensure visibility of bars\n",
        "plt.xticks(rotation=45)  # Rotate x-axis labels for better readability\n",
        "plt.show()"
      ]
    },
    {
      "cell_type": "code",
      "execution_count": null,
      "metadata": {
        "colab": {
          "base_uri": "https://localhost:8080/",
          "height": 718
        },
        "id": "08ILSfkouXEm",
        "outputId": "32c3a288-57ac-4226-87b2-2ef609f8c2fc"
      },
      "outputs": [
        {
          "data": {
            "image/png": "[encoded data removed]",
            "text/plain": [
              "<Figure size 1000x800 with 1 Axes>"
            ]
          },
          "metadata": {},
          "output_type": "display_data"
        }
      ],
      "source": [
        "import matplotlib.pyplot as plt\n",
        "from sklearn.metrics import roc_curve, roc_auc_score\n",
        "\n",
        "# For linear SVM\n",
        "svm_proba = linear_svc.decision_function(X_test)\n",
        "svm_fpr, svm_tpr, _ = roc_curve(Y_test, svm_proba)\n",
        "svm_auc = roc_auc_score(Y_test, svm_proba)\n",
        "\n",
        "# For KNN\n",
        "knn_proba = knn_classifier.predict_proba(X_test)[:, 1]\n",
        "knn_fpr, knn_tpr, _ = roc_curve(Y_test, knn_proba)\n",
        "knn_auc = roc_auc_score(Y_test, knn_proba)\n",
        "\n",
        "# For Decision Tree\n",
        "dt_proba = decision_tree.predict_proba(X_test)[:, 1]\n",
        "dt_fpr, dt_tpr, _ = roc_curve(Y_test, dt_proba)\n",
        "dt_auc = roc_auc_score(Y_test, dt_proba)\n",
        "\n",
        "# For Random Forest\n",
        "rf_proba = random_forest.predict_proba(X_test)[:, 1]\n",
        "rf_fpr, rf_tpr, _ = roc_curve(Y_test, rf_proba)\n",
        "rf_auc = roc_auc_score(Y_test, rf_proba)\n",
        "\n",
        "# For Logistic Regression\n",
        "logistic_proba = logistic_regression.predict_proba(X_test)[:, 1]\n",
        "logistic_fpr, logistic_tpr, _ = roc_curve(Y_test, logistic_proba)\n",
        "logistic_auc = roc_auc_score(Y_test, logistic_proba)\n",
        "\n",
        "# For Gradient Boosting\n",
        "gb_proba = gradient_boosting.predict_proba(X_test)[:, 1]\n",
        "gb_fpr, gb_tpr, _ = roc_curve(Y_test, gb_proba)\n",
        "gb_auc = roc_auc_score(Y_test, gb_proba)\n",
        "\n",
        "# For Hybrid Model\n",
        "hybrid_proba = hybrid_model.predict_proba(X_test)[:, 1]\n",
        "hybrid_fpr, hybrid_tpr, _ = roc_curve(Y_test, hybrid_proba)\n",
        "hybrid_auc = roc_auc_score(Y_test, hybrid_proba)\n",
        "\n",
        "# Plotting the ROC curves\n",
        "plt.figure(figsize=(10, 8))\n",
        "\n",
        "plt.plot(svm_fpr, svm_tpr, label='Linear SVM (AUC = {:.4f})'.format(svm_auc))\n",
        "plt.plot(knn_fpr, knn_tpr, label='KNN (AUC = {:.4f})'.format(knn_auc))\n",
        "plt.plot(dt_fpr, dt_tpr, label='Decision Tree (AUC = {:.4f})'.format(dt_auc))\n",
        "plt.plot(rf_fpr, rf_tpr, label='Random Forest (AUC = {:.4f})'.format(rf_auc))\n",
        "plt.plot(logistic_fpr, logistic_tpr, label='Logistic Regression (AUC = {:.4f})'.format(logistic_auc))\n",
        "plt.plot(gb_fpr, gb_tpr, label='Gradient Boosting (AUC = {:.4f})'.format(gb_auc))\n",
        "plt.plot(hybrid_fpr, hybrid_tpr, label='Ensemble Model (AUC = {:.4f})'.format(hybrid_auc))\n",
        "\n",
        "plt.plot([0, 1], [0, 1], 'k--')  # Diagonal line for reference\n",
        "plt.xlim([0.0, 1.0])\n",
        "plt.ylim([0.0, 1.05])\n",
        "plt.xlabel('False Positive Rate')\n",
        "plt.ylabel('True Positive Rate')\n",
        "plt.title('Receiver Operating Characteristic (ROC) Curve')\n",
        "plt.legend(loc='lower right')\n",
        "plt.grid(True)\n",
        "plt.show()\n"
      ]
    },
    {
      "cell_type": "code",
      "execution_count": null,
      "metadata": {
        "id": "qPvmYmoFAVTd"
      },
      "outputs": [],
      "source": [
        "# # Combine predictions (simple averaging for simplicity)\n",
        "# hybrid_pred = np.mean([svm_pred, dt_pred, rf_pred, logistic_pred, knn_pred, gb_pred], axis=0)\n",
        "\n",
        "# # Round predictions to convert to binary classification\n",
        "# hybrid_pred = np.round(hybrid_pred)\n",
        "\n",
        "# # Evaluate accuracy\n",
        "# accuracy = accuracy_score(Y_test, hybrid_pred)\n",
        "# print(\"Hybrid Model Accuracy:\", accuracy)"
      ]
    },
    {
      "cell_type": "code",
      "execution_count": null,
      "metadata": {
        "id": "7Nt9EAeirQCX"
      },
      "outputs": [],
      "source": [
        "# xgb_classifier = XGBClassifier()\n",
        "\n",
        "# xgb_classifier.fit(X_train, Y_train)\n",
        "\n",
        "# xg_boost_pred = xgb_classifier.predict(X_test)\n",
        "\n",
        "# accuracy = accuracy_score(Y_test, xg_boost_pred)\n",
        "# print('Model accuracy score with XGBoost: {:.4f}'.format(accuracy))"
      ]
    },
    {
      "cell_type": "markdown",
      "metadata": {
        "id": "ZxUihdllHnJF"
      },
      "source": [
        "**This is the Extra Part of the code Tools**"
      ]
    },
    {
      "cell_type": "code",
      "execution_count": null,
      "metadata": {
        "id": "q_q9KjAGrQc8"
      },
      "outputs": [],
      "source": [
        "# from tensorflow.keras.models import Sequential\n",
        "# from tensorflow.keras.layers import Dense\n",
        "# from tensorflow.keras.utils import to_categorical\n",
        "\n",
        "# # Convert target to categorical\n",
        "# y = label_encoder.fit_transform(Y)\n",
        "# y = to_categorical(Y)\n",
        "\n",
        "# # Split the data into training and testing sets\n",
        "# X_train, X_test, y_train, y_test = train_test_split(selected_features, y, test_size=0.2, random_state=42)\n",
        "\n",
        "# # Build the ANN\n",
        "# model = Sequential()\n",
        "# model.add(Dense(64, input_dim=X_train.shape[1], activation='relu'))\n",
        "# model.add(Dense(32, activation='relu'))\n",
        "# model.add(Dense(y_train.shape[1], activation='softmax'))  # Corrected this line\n",
        "\n",
        "# # Compile the model\n",
        "# model.compile(optimizer='adam', loss='categorical_crossentropy', metrics=['accuracy'])\n",
        "\n",
        "# # Train the model\n",
        "# model.fit(X_train, y_train, epochs=50, batch_size=10, validation_split=0.2)\n",
        "\n",
        "# # Evaluate the model\n",
        "# loss, accuracy = model.evaluate(X_test, y_test)\n",
        "# print(f\"Accuracy: {accuracy * 100:.2f}%\")"
      ]
    }
  ],
  "metadata": {
    "colab": {
      "provenance": [],
      "include_colab_link": true
    },
    "kernelspec": {
      "display_name": "Python 3",
      "name": "python3"
    },
    "language_info": {
      "name": "python"
    }
  },
  "nbformat": 4,
  "nbformat_minor": 0
}